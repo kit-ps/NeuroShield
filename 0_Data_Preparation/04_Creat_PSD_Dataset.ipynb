{
 "cells": [
  {
   "cell_type": "code",
   "execution_count": 1,
   "id": "ba37a07e-8200-4eb7-b1c5-5d081e16457b",
   "metadata": {},
   "outputs": [],
   "source": [
    "import h5py\n",
    "import numpy as np\n",
    "from scipy.signal import welch\n",
    "from tqdm import tqdm\n",
    "\n",
    "\n",
    "def compute_psd(data_chunk, fs=500, nperseg=256):\n",
    "    \"\"\"\n",
    "    Compute PSD features for a chunk of EEG data.\n",
    "\n",
    "    Parameters:\n",
    "    - data_chunk: numpy array of shape (num_samples, num_channels, signal_length)\n",
    "    - fs: Sampling frequency\n",
    "    - nperseg: Length of each segment for Welch's method\n",
    "\n",
    "    Returns:\n",
    "    - psd_features: numpy array of shape (num_samples, num_channels, num_freq_bins)\n",
    "    \"\"\"\n",
    "    num_samples, num_channels, _ = data_chunk.shape\n",
    "    # Determine the number of frequency bins from a single PSD computation\n",
    "    _, Pxx_sample = welch(data_chunk[0, 0], fs=fs, nperseg=nperseg)\n",
    "    num_freq_bins = len(Pxx_sample)\n",
    "\n",
    "    # Pre-allocate PSD features array  , nperseg=128, noverlap=64)\n",
    "    psd_features = np.zeros((num_samples, num_channels, num_freq_bins), dtype=np.float32)\n",
    "\n",
    "    # Compute PSD for each sample and channel\n",
    "    for i in range(num_samples):\n",
    "        for j in range(num_channels):\n",
    "            _, Pxx = welch(data_chunk[i, j], fs=fs, nperseg=nperseg)\n",
    "            psd_features[i, j] = Pxx\n",
    "\n",
    "    return psd_features\n",
    "\n",
    "\n",
    "def process_and_save_psd(input_h5_file, output_h5_file, fs=500, nperseg=256, chunk_size=1000):\n",
    "    \"\"\"\n",
    "    Process the EEG data to compute PSD features and save them to a new HDF5 file.\n",
    "\n",
    "    Parameters:\n",
    "    - input_h5_file: Path to the input HDF5 file containing the raw EEG data\n",
    "    - output_h5_file: Path to the output HDF5 file to save the PSD features\n",
    "    - fs: Sampling frequency\n",
    "    - nperseg: Length of each segment for Welch's method\n",
    "    - chunk_size: Number of samples to process at once\n",
    "    \"\"\"\n",
    "    # Open the original HDF5 file in read mode\n",
    "    with h5py.File(input_h5_file, 'r') as h5_orig:\n",
    "        data = h5_orig['data']  # Shape: (num_samples, num_channels, signal_length)\n",
    "        labels = h5_orig['labels'][:]\n",
    "        sessions = h5_orig['sessions'][:]\n",
    "        num_samples, num_channels, signal_length = data.shape\n",
    "\n",
    "        # Determine the number of frequency bins from a single PSD computation\n",
    "        _, Pxx_sample = welch(data[0, 0], fs=fs, nperseg=nperseg)\n",
    "        num_freq_bins = len(Pxx_sample)\n",
    "\n",
    "        # Create a new HDF5 file to store PSD features\n",
    "        with h5py.File(output_h5_file, 'w') as h5_new:\n",
    "            # Copy 'labels' and 'sessions' datasets\n",
    "            h5_new.create_dataset('labels', data=labels, dtype=labels.dtype)\n",
    "            h5_new.create_dataset('sessions', data=sessions, dtype=sessions.dtype)\n",
    "\n",
    "            # Create 'data' dataset for PSD features with appropriate shape\n",
    "            psd_shape = (num_samples, num_channels, num_freq_bins)\n",
    "            psd_dataset = h5_new.create_dataset('data', shape=psd_shape, dtype=np.float32, chunks=True)\n",
    "\n",
    "            # Process data in chunks\n",
    "            for start in tqdm(range(0, num_samples, chunk_size), desc='Processing PSD'):\n",
    "                end = min(start + chunk_size, num_samples)\n",
    "                data_chunk = data[start:end]  # Shape: (chunk_size, num_channels, signal_length)\n",
    "                psd_chunk = compute_psd(data_chunk, fs=fs, nperseg=nperseg)  # Shape: (chunk_size, num_channels, num_freq_bins)\n",
    "                # Save the computed PSD to the new HDF5 file\n",
    "                #print(psd_chunk.shape)\n",
    "                psd_dataset[start:end] = psd_chunk\n",
    "\n",
    "    print(f\"PSD computation and saving completed successfully to '{output_h5_file}'.\")\n"
   ]
  },
  {
   "cell_type": "code",
   "execution_count": 2,
   "id": "3e639aa7-079c-48d1-a498-4f48de3c79e8",
   "metadata": {},
   "outputs": [
    {
     "name": "stderr",
     "output_type": "stream",
     "text": [
      "Processing PSD: 100%|█████████████████████████| 401/401 [43:37<00:00,  6.53s/it]\n"
     ]
    },
    {
     "name": "stdout",
     "output_type": "stream",
     "text": [
      "PSD computation and saving completed successfully to '../Data/train_psd.h5'.\n"
     ]
    }
   ],
   "source": [
    "if __name__ == \"__main__\":\n",
    "    # Specify the input and output HDF5 filenames\n",
    "    input_h5_file = '../Data/train_raw.h5'\n",
    "    output_h5_file = '../Data/train_psd.h5'  # New filename with 'psd' included\n",
    "\n",
    "    # Call the processing function\n",
    "    process_and_save_psd(input_h5_file, output_h5_file, fs=500, nperseg=256, chunk_size=1000)\n"
   ]
  },
  {
   "cell_type": "code",
   "execution_count": 3,
   "id": "f14e10a9-6844-46f0-8de4-d70d31acedec",
   "metadata": {},
   "outputs": [
    {
     "name": "stderr",
     "output_type": "stream",
     "text": [
      "Processing PSD: 100%|█████████████████████████| 401/401 [43:38<00:00,  6.53s/it]"
     ]
    },
    {
     "name": "stdout",
     "output_type": "stream",
     "text": [
      "PSD computation and saving completed successfully to '../Data/train_psd.h5'.\n"
     ]
    },
    {
     "name": "stderr",
     "output_type": "stream",
     "text": [
      "\n"
     ]
    }
   ],
   "source": [
    "if __name__ == \"__main__\":\n",
    "    # Specify the input and output HDF5 filenames\n",
    "    input_h5_file = '../Data/train_raw.h5'\n",
    "    output_h5_file = '../Data/train_psd.h5'  # New filename with 'psd' included\n",
    "\n",
    "    # Call the processing function\n",
    "    process_and_save_psd(input_h5_file, output_h5_file, fs=500, nperseg=256, chunk_size=1000)\n"
   ]
  },
  {
   "cell_type": "code",
   "execution_count": 4,
   "id": "a4918227-270b-4be5-aec7-c6a840bf0498",
   "metadata": {},
   "outputs": [
    {
     "name": "stderr",
     "output_type": "stream",
     "text": [
      "Processing PSD: 100%|███████████████████████████| 86/86 [09:16<00:00,  6.47s/it]"
     ]
    },
    {
     "name": "stdout",
     "output_type": "stream",
     "text": [
      "PSD computation and saving completed successfully to '../Data/test_psd.h5'.\n"
     ]
    },
    {
     "name": "stderr",
     "output_type": "stream",
     "text": [
      "\n"
     ]
    }
   ],
   "source": [
    "if __name__ == \"__main__\":\n",
    "    # Specify the input and output HDF5 filenames\n",
    "    input_h5_file = '../Data/test_raw.h5'\n",
    "    output_h5_file = '../Data/test_psd.h5'  # New filename with 'psd' included\n",
    "\n",
    "    # Call the processing function\n",
    "    process_and_save_psd(input_h5_file, output_h5_file, fs=500, nperseg=256, chunk_size=1000)\n"
   ]
  },
  {
   "cell_type": "code",
   "execution_count": 5,
   "id": "8302edc8-3725-4f5a-9086-113dc2470950",
   "metadata": {},
   "outputs": [
    {
     "name": "stderr",
     "output_type": "stream",
     "text": [
      "Processing PSD: 100%|███████████████████████████| 32/32 [03:23<00:00,  6.36s/it]"
     ]
    },
    {
     "name": "stdout",
     "output_type": "stream",
     "text": [
      "PSD computation and saving completed successfully to '../Data/valid_psd.h5'.\n"
     ]
    },
    {
     "name": "stderr",
     "output_type": "stream",
     "text": [
      "\n"
     ]
    }
   ],
   "source": [
    "if __name__ == \"__main__\":\n",
    "    # Specify the input and output HDF5 filenames\n",
    "    input_h5_file = '../Data/valid_raw.h5'\n",
    "    output_h5_file = '../Data/valid_psd.h5'  # New filename with 'psd' included\n",
    "\n",
    "    # Call the processing function\n",
    "    process_and_save_psd(input_h5_file, output_h5_file, fs=500, nperseg=256, chunk_size=1000)\n"
   ]
  },
  {
   "cell_type": "code",
   "execution_count": 6,
   "id": "4890029a-a235-4fa1-89ac-467f5bbe04a3",
   "metadata": {},
   "outputs": [
    {
     "name": "stderr",
     "output_type": "stream",
     "text": [
      "Processing PSD: 100%|███████████████████████████| 85/85 [09:06<00:00,  6.43s/it]"
     ]
    },
    {
     "name": "stdout",
     "output_type": "stream",
     "text": [
      "PSD computation and saving completed successfully to '../Data/neg_psd.h5'.\n"
     ]
    },
    {
     "name": "stderr",
     "output_type": "stream",
     "text": [
      "\n"
     ]
    }
   ],
   "source": [
    "if __name__ == \"__main__\":\n",
    "    # Specify the input and output HDF5 filenames\n",
    "    input_h5_file = '../Data/neg_raw.h5'\n",
    "    output_h5_file = '../Data/neg_psd.h5'  # New filename with 'psd' included\n",
    "\n",
    "    # Call the processing function\n",
    "    process_and_save_psd(input_h5_file, output_h5_file, fs=500, nperseg=256, chunk_size=1000)\n"
   ]
  },
  {
   "cell_type": "code",
   "execution_count": null,
   "id": "24719ce9-191f-4d86-85c2-438f820fabf5",
   "metadata": {},
   "outputs": [],
   "source": []
  },
  {
   "cell_type": "code",
   "execution_count": 7,
   "id": "1a44cbf9-328a-4250-8e78-fe13076ae440",
   "metadata": {},
   "outputs": [],
   "source": [
    "import h5py\n",
    "import numpy as np\n",
    "from scipy.signal import welch\n",
    "from tqdm import tqdm\n",
    "\n",
    "# Define the frequency bands\n",
    "bands = {\n",
    "    'delta': (0.5, 4),\n",
    "    'theta': (4, 8),\n",
    "    'alpha': (8, 12),\n",
    "    'beta': (13, 30),\n",
    "    'gamma': (30, 50)\n",
    "}\n",
    "\n",
    "def compute_psd(data_chunk, fs=500, nperseg=256):\n",
    "    \"\"\"\n",
    "    Compute PSD features for a chunk of EEG data and extract band-specific PSD.\n",
    "\n",
    "    Parameters:\n",
    "    - data_chunk: numpy array of shape (num_samples, num_channels, signal_length)\n",
    "    - fs: Sampling frequency\n",
    "    - nperseg: Length of each segment for Welch's method\n",
    "\n",
    "    Returns:\n",
    "    - psd_band_features: numpy array of shape (num_samples, num_channels, num_bands)\n",
    "    \"\"\"\n",
    "    num_samples, num_channels, _ = data_chunk.shape\n",
    "\n",
    "    # Pre-allocate PSD features for bands\n",
    "    num_bands = len(bands)\n",
    "    psd_band_features = np.zeros((num_samples, num_channels, num_bands), dtype=np.float32)\n",
    "\n",
    "    # Compute PSD for each sample and channel\n",
    "    for i in range(num_samples):\n",
    "        for j in range(num_channels):\n",
    "            freqs, Pxx = welch(data_chunk[i, j], fs=fs, nperseg=nperseg)\n",
    "\n",
    "            # Extract band-specific power by summing PSD values within each band\n",
    "            for k, (band, (low, high)) in enumerate(bands.items()):\n",
    "                band_power = np.sum(Pxx[(freqs >= low) & (freqs < high)])\n",
    "                psd_band_features[i, j, k] = band_power\n",
    "\n",
    "    return psd_band_features\n",
    "\n",
    "def process_and_save_psd(input_h5_file, output_h5_file, fs=500, nperseg=256, chunk_size=1000):\n",
    "    \"\"\"\n",
    "    Process the EEG data to compute band-specific PSD features and save them to a new HDF5 file.\n",
    "\n",
    "    Parameters:\n",
    "    - input_h5_file: Path to the input HDF5 file containing the raw EEG data\n",
    "    - output_h5_file: Path to the output HDF5 file to save the PSD features\n",
    "    - fs: Sampling frequency\n",
    "    - nperseg: Length of each segment for Welch's method\n",
    "    - chunk_size: Number of samples to process at once\n",
    "    \"\"\"\n",
    "    # Open the original HDF5 file in read mode\n",
    "    with h5py.File(input_h5_file, 'r') as h5_orig:\n",
    "        data = h5_orig['data']  # Shape: (num_samples, num_channels, signal_length)\n",
    "        labels = h5_orig['labels'][:]\n",
    "        sessions = h5_orig['sessions'][:]\n",
    "        num_samples, num_channels, signal_length = data.shape\n",
    "\n",
    "        # Determine the number of bands\n",
    "        num_bands = len(bands)\n",
    "\n",
    "        # Create a new HDF5 file to store PSD features\n",
    "        with h5py.File(output_h5_file, 'w') as h5_new:\n",
    "            # Copy 'labels' and 'sessions' datasets\n",
    "            h5_new.create_dataset('labels', data=labels, dtype=labels.dtype)\n",
    "            h5_new.create_dataset('sessions', data=sessions, dtype=sessions.dtype)\n",
    "\n",
    "            # Create 'data' dataset for PSD features with appropriate shape\n",
    "            psd_shape = (num_samples, num_channels, num_bands)\n",
    "            psd_dataset = h5_new.create_dataset('data', shape=psd_shape, dtype=np.float32, chunks=True)\n",
    "\n",
    "            # Process data in chunks\n",
    "            for start in tqdm(range(0, num_samples, chunk_size), desc='Processing PSD'):\n",
    "                end = min(start + chunk_size, num_samples)\n",
    "                data_chunk = data[start:end]  # Shape: (chunk_size, num_channels, signal_length)\n",
    "                psd_chunk = compute_psd(data_chunk, fs=fs, nperseg=nperseg)  # Shape: (chunk_size, num_channels, num_bands)\n",
    "                # Save the computed PSD to the new HDF5 file\n",
    "                psd_dataset[start:end] = psd_chunk\n",
    "\n",
    "    print(f\"Band-specific PSD computation and saving completed successfully to '{output_h5_file}'.\")\n"
   ]
  },
  {
   "cell_type": "code",
   "execution_count": 8,
   "id": "bf8275af-20cb-4f90-a464-6a750c3c23a2",
   "metadata": {},
   "outputs": [
    {
     "name": "stderr",
     "output_type": "stream",
     "text": [
      "Processing PSD: 100%|███████████████████████████| 85/85 [11:28<00:00,  8.10s/it]"
     ]
    },
    {
     "name": "stdout",
     "output_type": "stream",
     "text": [
      "Band-specific PSD computation and saving completed successfully to '../Data/neg_psd_bins.h5'.\n"
     ]
    },
    {
     "name": "stderr",
     "output_type": "stream",
     "text": [
      "\n"
     ]
    }
   ],
   "source": [
    "if __name__ == \"__main__\":\n",
    "    # Specify the input and output HDF5 filenames\n",
    "    input_h5_file = '../Data/neg_raw.h5'\n",
    "    output_h5_file = '../Data/neg_psd_bins.h5'  # New filename with 'psd' included\n",
    "\n",
    "    # Call the processing function\n",
    "    process_and_save_psd(input_h5_file, output_h5_file, fs=500, nperseg=256, chunk_size=1000)\n"
   ]
  },
  {
   "cell_type": "code",
   "execution_count": 9,
   "id": "9b55c967-b23f-42d0-b1f0-99f8302e7b12",
   "metadata": {},
   "outputs": [
    {
     "name": "stderr",
     "output_type": "stream",
     "text": [
      "Processing PSD: 100%|█████████████████████████| 401/401 [54:34<00:00,  8.16s/it]"
     ]
    },
    {
     "name": "stdout",
     "output_type": "stream",
     "text": [
      "Band-specific PSD computation and saving completed successfully to '../Data/train_psd_bins.h5'.\n"
     ]
    },
    {
     "name": "stderr",
     "output_type": "stream",
     "text": [
      "\n"
     ]
    }
   ],
   "source": [
    "if __name__ == \"__main__\":\n",
    "    # Specify the input and output HDF5 filenames\n",
    "    input_h5_file = '../Data/train_raw.h5'\n",
    "    output_h5_file = '../Data/train_psd_bins.h5'  # New filename with 'psd' included\n",
    "\n",
    "    # Call the processing function\n",
    "    process_and_save_psd(input_h5_file, output_h5_file, fs=500, nperseg=256, chunk_size=1000)\n"
   ]
  },
  {
   "cell_type": "code",
   "execution_count": 10,
   "id": "53ec5d1b-0817-4b80-b31d-f0ec74719033",
   "metadata": {},
   "outputs": [
    {
     "name": "stderr",
     "output_type": "stream",
     "text": [
      "Processing PSD: 100%|███████████████████████████| 86/86 [11:40<00:00,  8.15s/it]"
     ]
    },
    {
     "name": "stdout",
     "output_type": "stream",
     "text": [
      "Band-specific PSD computation and saving completed successfully to '../Data/test_psd_bins.h5'.\n"
     ]
    },
    {
     "name": "stderr",
     "output_type": "stream",
     "text": [
      "\n"
     ]
    }
   ],
   "source": [
    "if __name__ == \"__main__\":\n",
    "    # Specify the input and output HDF5 filenames\n",
    "    input_h5_file = '../Data/test_raw.h5'\n",
    "    output_h5_file = '../Data/test_psd_bins.h5'  # New filename with 'psd' included\n",
    "\n",
    "    # Call the processing function\n",
    "    process_and_save_psd(input_h5_file, output_h5_file, fs=500, nperseg=256, chunk_size=1000)\n"
   ]
  },
  {
   "cell_type": "code",
   "execution_count": 11,
   "id": "c2526221-0c54-457a-94fc-ce911714a2b9",
   "metadata": {},
   "outputs": [
    {
     "name": "stderr",
     "output_type": "stream",
     "text": [
      "Processing PSD: 100%|███████████████████████████| 32/32 [04:16<00:00,  8.03s/it]"
     ]
    },
    {
     "name": "stdout",
     "output_type": "stream",
     "text": [
      "Band-specific PSD computation and saving completed successfully to '../Data/valid_psd_bins.h5'.\n"
     ]
    },
    {
     "name": "stderr",
     "output_type": "stream",
     "text": [
      "\n"
     ]
    }
   ],
   "source": [
    "if __name__ == \"__main__\":\n",
    "    # Specify the input and output HDF5 filenames\n",
    "    input_h5_file = '../Data/valid_raw.h5'\n",
    "    output_h5_file = '../Data/valid_psd_bins.h5'  # New filename with 'psd' included\n",
    "\n",
    "    # Call the processing function\n",
    "    process_and_save_psd(input_h5_file, output_h5_file, fs=500, nperseg=256, chunk_size=1000)\n"
   ]
  },
  {
   "cell_type": "code",
   "execution_count": null,
   "id": "dda7b710-dbfa-4bb4-812a-05ee6d7f5869",
   "metadata": {},
   "outputs": [],
   "source": []
  }
 ],
 "metadata": {
  "kernelspec": {
   "display_name": "NS",
   "language": "python",
   "name": "neuroshield"
  },
  "language_info": {
   "codemirror_mode": {
    "name": "ipython",
    "version": 3
   },
   "file_extension": ".py",
   "mimetype": "text/x-python",
   "name": "python",
   "nbconvert_exporter": "python",
   "pygments_lexer": "ipython3",
   "version": "3.9.21"
  }
 },
 "nbformat": 4,
 "nbformat_minor": 5
}
