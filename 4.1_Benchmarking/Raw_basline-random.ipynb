{
 "cells": [
  {
   "cell_type": "code",
   "execution_count": 1,
   "id": "76a9f17b-bb53-4ae6-a497-ce47c65659c0",
   "metadata": {
    "scrolled": true
   },
   "outputs": [
    {
     "name": "stdout",
     "output_type": "stream",
     "text": [
      "Subject 70, Number of unique sessions: 19\n",
      "Subject 86, Number of unique sessions: 19\n",
      "Subject 96, Number of unique sessions: 18\n",
      "Subject 125, Number of unique sessions: 19\n",
      "Subject 129, Number of unique sessions: 5\n",
      "Subject 167, Number of unique sessions: 2\n",
      "Subject 174, Number of unique sessions: 19\n",
      "Subject 175, Number of unique sessions: 6\n",
      "Subject 183, Number of unique sessions: 6\n",
      "Subject 194, Number of unique sessions: 19\n",
      "Subject 197, Number of unique sessions: 19\n",
      "Subject 199, Number of unique sessions: 19\n",
      "Subject 201, Number of unique sessions: 19\n",
      "Subject 203, Number of unique sessions: 6\n",
      "Subject 206, Number of unique sessions: 6\n",
      "Subject 207, Number of unique sessions: 41\n",
      "Subject 214, Number of unique sessions: 18\n",
      "Subject 219, Number of unique sessions: 5\n",
      "Subject 230, Number of unique sessions: 6\n",
      "Subject 236, Number of unique sessions: 42\n",
      "Subject 245, Number of unique sessions: 6\n",
      "Subject 250, Number of unique sessions: 41\n",
      "Subject 257, Number of unique sessions: 6\n",
      "Subject 260, Number of unique sessions: 49\n",
      "Subject 261, Number of unique sessions: 10\n",
      "Subject 262, Number of unique sessions: 6\n",
      "Subject 265, Number of unique sessions: 40\n",
      "Subject 268, Number of unique sessions: 19\n",
      "Subject 270, Number of unique sessions: 19\n",
      "Subject 281, Number of unique sessions: 19\n",
      "Subject 291, Number of unique sessions: 19\n",
      "Subject 296, Number of unique sessions: 23\n",
      "Subject 299, Number of unique sessions: 22\n",
      "Subject 303, Number of unique sessions: 21\n",
      "Subject 306, Number of unique sessions: 23\n",
      "Subject 314, Number of unique sessions: 6\n",
      "Subject 322, Number of unique sessions: 21\n",
      "Subject 325, Number of unique sessions: 22\n",
      "Subject 342, Number of unique sessions: 23\n",
      "Subject 348, Number of unique sessions: 23\n",
      "Subject 357, Number of unique sessions: 22\n",
      "Subject 364, Number of unique sessions: 22\n",
      "Subject 374, Number of unique sessions: 20\n",
      "Subject 407, Number of unique sessions: 9\n",
      "Subject 414, Number of unique sessions: 9\n",
      "Subject 415, Number of unique sessions: 9\n",
      "Subject 418, Number of unique sessions: 9\n",
      "Subject 419, Number of unique sessions: 9\n",
      "Subject 422, Number of unique sessions: 8\n",
      "Subject 436, Number of unique sessions: 8\n"
     ]
    }
   ],
   "source": [
    "# import h5py\n",
    "import torch\n",
    "import numpy as np\n",
    "from torch.utils.data import Dataset, DataLoader, Subset\n",
    "import h5py\n",
    "import numpy as np\n",
    "\n",
    "import h5py\n",
    "\n",
    "import h5py\n",
    "import numpy as np\n",
    "\n",
    "# Load test data from test_raw.h5\n",
    "with h5py.File(\"./data/test_raw.h5\", \"r\") as f_test:\n",
    "    X_test = f_test['data'][:]\n",
    "    Y_test = f_test['labels'][:]\n",
    "    S_test = f_test['sessions'][:]\n",
    "    #H_test = f_test['hardwares'][:]  # Load the 'hardwares' dataset as h_test\n",
    "\n",
    "\n",
    "# Now, X_combined, Y_combined, S_combined, and h_combined contain the merged data\n",
    "\n",
    "\n",
    "# Now, X_combined, Y_combined, and S_combined contain the merged data\n",
    "\n",
    "\n",
    "# Shuffle the data\n",
    "indices = np.arange(X_test.shape[0])\n",
    "np.random.shuffle(indices)\n",
    "\n",
    "# Reorder the arrays according to the shuffled indices\n",
    "x_test = X_test[indices]\n",
    "y_test = Y_test[indices]\n",
    "s_test = S_test[indices]\n",
    "#h_test = H_test[indices]\n",
    "\n",
    "\n",
    "# Find unique subjects\n",
    "unique_subjects = np.unique(y_test)\n",
    "\n",
    "# Initialize lists to hold the data for x_test_e and x_test_v\n",
    "x_test_e_list = []\n",
    "y_test_e_list = []\n",
    "s_test_e_list = []\n",
    "h_test_e_list = []\n",
    "\n",
    "x_test_v_list = []\n",
    "y_test_v_list = []\n",
    "s_test_v_list = []\n",
    "h_test_v_list = []\n",
    "\n",
    "# Assign the minimum session for each subject to x_test_e and the rest to x_test_v\n",
    "for subject in unique_subjects:\n",
    "    subject_indices = np.where(y_test == subject)[0]\n",
    "    subject_sessions = s_test[subject_indices]\n",
    "    \n",
    "    # Skip subjects with fewer than two unique sessions\n",
    "    if len(np.unique(subject_sessions)) < 2:\n",
    "        continue\n",
    "\n",
    "    print(f\"Subject {subject}, Number of unique sessions: {len(np.unique(subject_sessions))}\")\n",
    "    \n",
    "    # Assign the minimum session to the evaluation set (x_test_e)\n",
    "    min_session = np.min(subject_sessions)\n",
    "    \n",
    "    # Append data to the evaluation set (min session)\n",
    "    x_test_e_list.extend(x_test[subject_indices][subject_sessions == min_session])\n",
    "    y_test_e_list.extend(y_test[subject_indices][subject_sessions == min_session])\n",
    "    s_test_e_list.extend(s_test[subject_indices][subject_sessions == min_session])\n",
    "    #h_test_e_list.extend(h_test[subject_indices][subject_sessions == min_session])\n",
    "\n",
    "    # Append remaining sessions to the validation set (x_test_v)\n",
    "    x_test_v_list.extend(x_test[subject_indices][subject_sessions != min_session])\n",
    "    y_test_v_list.extend(y_test[subject_indices][subject_sessions != min_session])\n",
    "    s_test_v_list.extend(s_test[subject_indices][subject_sessions != min_session])\n",
    "    #h_test_v_list.extend(h_test[subject_indices][subject_sessions != min_session])\n",
    "\n",
    "# Shuffle and convert lists back to numpy arrays for x_test_e\n",
    "indices_e = np.arange(len(x_test_e_list))\n",
    "np.random.shuffle(indices_e)\n",
    "\n",
    "x_test_e = np.array(x_test_e_list)[indices_e]\n",
    "y_test_e = np.array(y_test_e_list)[indices_e]\n",
    "s_test_e = np.array(s_test_e_list)[indices_e]\n",
    "#h_test_e = np.array(h_test_v_list)[indices_e]\n",
    "\n",
    "# Shuffle and convert lists back to numpy arrays for x_test_v\n",
    "indices_v = np.arange(len(x_test_v_list))\n",
    "np.random.shuffle(indices_v)\n",
    "\n",
    "x_test_v = np.array(x_test_v_list)[indices_v]\n",
    "y_test_v = np.array(y_test_v_list)[indices_v]\n",
    "s_test_v = np.array(s_test_v_list)[indices_v]\n",
    "#h_test_v = np.array(h_test_v_list)[indices_v]\n",
    "# Optional: Save the new test evaluation and validation sets to npy files (if needed)\n"
   ]
  },
  {
   "cell_type": "code",
   "execution_count": 2,
   "id": "6df13312-b49c-4ac1-a63e-81060b78a3b5",
   "metadata": {},
   "outputs": [],
   "source": [
    "# Parameters for synthetic data\n",
    "samples_e = 5000  # Number of enrollment samples\n",
    "samples_v = 80643  # Number of verification samples\n",
    "channels = 93     # Number of channels\n",
    "time_steps = 500  # Number of time steps\n",
    "\n",
    "# Generate random enrollment data (samples_e, channels, time_steps)\n",
    "x_test_e = np.random.rand(samples_e, channels, time_steps).astype(np.float32)\n",
    "\n",
    "# Generate random verification data (samples_v, channels, time_steps)\n",
    "x_test_v = np.random.rand(samples_v, channels, time_steps).astype(np.float32)"
   ]
  },
  {
   "cell_type": "code",
   "execution_count": 3,
   "id": "61963262-8095-48c1-bcb2-c519bbc38d1f",
   "metadata": {},
   "outputs": [],
   "source": [
    "with h5py.File(\"./data/neg_raw.h5\", \"r\") as f:\n",
    "    x_neg_r = f['data'][:]\n",
    "    y_neg = f['labels'][:]\n",
    "    s_neg = f['sessions'][:]\n",
    "\n",
    "X_neg_r  = np.random.rand(84408, channels, time_steps).astype(np.float32)"
   ]
  },
  {
   "cell_type": "code",
   "execution_count": 4,
   "id": "f6e2a885-59de-48d7-9019-70552c09cbd2",
   "metadata": {},
   "outputs": [],
   "source": [
    "from sklearn.ensemble import RandomForestClassifier\n",
    "from sklearn.svm import SVC\n",
    "from collections import defaultdict\n",
    "import numpy as np\n",
    "from sklearn.metrics.pairwise import euclidean_distances as ed\n",
    "from sklearn.metrics.pairwise import cosine_distances as cd\n",
    "from collections import defaultdict\n",
    "from pyeer.eer_info import get_eer_stats\n",
    "from sklearn.metrics.pairwise import manhattan_distances as md\n",
    "from sklearn.metrics.pairwise import cosine_similarity as cs\n",
    "\n",
    "\n",
    "def EERf(resutls):\n",
    "    resutls= np.array(resutls)\n",
    "    genuine  = resutls[resutls[:, 1] == 1][:, 0]\n",
    "    impostor = resutls[resutls[:, 1] == 0][:, 0]\n",
    "    stats_a = get_eer_stats(genuine, impostor)\n",
    "    return(stats_a.eer,stats_a.fmr100)\n",
    "\n",
    "def calculate_and_print_averages(y_train, resutls3):\n",
    "    u, counts = np.unique(y_train, return_counts=True)\n",
    "    eer_values = []\n",
    "    ii = 0\n",
    "\n",
    "    for i in resutls3.keys():\n",
    "        re = EERf(resutls3[i])\n",
    "        eer = re[0]\n",
    "        print(f\"{i}: EER = {re[0]:.4f}, FMR100 = {re[1]:.4f}, Count = {counts[ii]}\")\n",
    "        eer_values.append(eer)\n",
    "        ii += 1\n",
    "\n",
    "    average_eer = np.mean(eer_values) * 100\n",
    "    std_eer = np.std(eer_values) * 100\n",
    "    \n",
    "    print(f\"Final Average EER: {average_eer:.4f}\")\n",
    "    print(f\"Final EER Standard Deviation: {std_eer:.4f}\")\n",
    "    print(f\"${average_eer:.2f} \\\\pm {std_eer:.2f}$\")\n",
    "\n",
    "import torch.nn.functional as F\n",
    "\n",
    "\n",
    "def calculate_similarity_scores_two(enrollment_embeddings, y_enrollment, verification_embeddings, y_verification,distance):\n",
    "    similarity_results = []\n",
    "    similarity_results_by_class = []\n",
    "    similarity_results_by_class_dict = defaultdict(list)\n",
    "    unique_classes = np.unique(y_enrollment)\n",
    "    class_indices = [np.where(y_enrollment == cls)[0] for cls in unique_classes]\n",
    "    print(verification_embeddings.shape, enrollment_embeddings.shape)\n",
    "    if distance == \"cd\":\n",
    "        similarity_matrix = -1 * cd(verification_embeddings, enrollment_embeddings)\n",
    "    elif distance == \"ed\":\n",
    "        similarity_matrix = -1 * ed(verification_embeddings, enrollment_embeddings)\n",
    "\n",
    "    for i in range(similarity_matrix.shape[0]):\n",
    "        current_class = y_verification[i]\n",
    "        predicted_scores = similarity_matrix[i]\n",
    "        same_class_indices = class_indices[np.where(unique_classes == current_class)[0][0]]\n",
    "\n",
    "        for cls in unique_classes:\n",
    "            same_class_indices = class_indices[np.where(unique_classes == cls)[0][0]]\n",
    "            max_score = sum(sorted(predicted_scores[same_class_indices], reverse=True)[:10]) / 10\n",
    "            if current_class == cls:\n",
    "                similarity_results_by_class.append([max_score, 1, current_class, cls, i])\n",
    "                similarity_results_by_class_dict[cls].append([max_score, 1, current_class, cls, i, cls])\n",
    "            else:\n",
    "                similarity_results_by_class.append([max_score, 0, current_class, cls, i])\n",
    "                similarity_results_by_class_dict[cls].append([max_score, 0, current_class, cls, i, cls])\n",
    "\n",
    "    return similarity_results_by_class, similarity_results_by_class_dict\n",
    "\n",
    "def assessment_model_data_two(enrollment_data, ye, verification_data, yv, e_network, distance):\n",
    "    x_enrollment, y_enrollment = enrollment_data, ye\n",
    "    x_verification, y_verification = verification_data, yv\n",
    "    enrollment_embeddings = compute_embedding_batch_two(x_enrollment, e_network)\n",
    "    verification_embeddings = compute_embedding_batch_two(x_verification, e_network)\n",
    "    similarity_results_by_class, similarity_results_by_class_dict = calculate_similarity_scores_two(\n",
    "        enrollment_embeddings, y_enrollment, verification_embeddings, y_verification,distance\n",
    "    )\n",
    "    return similarity_results_by_class, similarity_results_by_class_dict\n",
    "\n",
    "def compute_embedding_batch_two(x_test_batch, embedding_network=None):\n",
    "    print(x_test_batch.shape)\n",
    "    return x_test_batch"
   ]
  },
  {
   "cell_type": "code",
   "execution_count": 5,
   "id": "e1538026-413f-4589-a255-9e3c3fefd1a2",
   "metadata": {},
   "outputs": [
    {
     "name": "stdout",
     "output_type": "stream",
     "text": [
      "(5000, 46500)\n",
      "(80643, 46500)\n",
      "(80643, 46500) (5000, 46500)\n",
      "70: EER = 0.4939, FMR100 = 0.9928, Count = 100\n",
      "86: EER = 0.4994, FMR100 = 0.9878, Count = 100\n",
      "96: EER = 0.4967, FMR100 = 0.9894, Count = 100\n",
      "125: EER = 0.4961, FMR100 = 0.9872, Count = 100\n",
      "129: EER = 0.4959, FMR100 = 0.9925, Count = 100\n",
      "167: EER = 0.4943, FMR100 = 1.0000, Count = 100\n"
     ]
    },
    {
     "name": "stderr",
     "output_type": "stream",
     "text": [
      "/home/fallahi/anaconda3/envs/oml/lib/python3.9/site-packages/pyeer/eer_stats.py:219: UserWarning: It is possible that you had set the wrong score type. Please consider reviewing if you are using dissimilarity or similarity scores\n",
      "  warn(\"It is possible that you had set the wrong score\"\n"
     ]
    },
    {
     "name": "stdout",
     "output_type": "stream",
     "text": [
      "174: EER = 0.5067, FMR100 = 0.9878, Count = 100\n",
      "175: EER = 0.5028, FMR100 = 0.9900, Count = 100\n",
      "183: EER = 0.5020, FMR100 = 0.9940, Count = 100\n",
      "194: EER = 0.5001, FMR100 = 0.9889, Count = 100\n",
      "197: EER = 0.5011, FMR100 = 0.9894, Count = 100\n",
      "199: EER = 0.5090, FMR100 = 0.9894, Count = 100\n",
      "201: EER = 0.4985, FMR100 = 0.9878, Count = 100\n",
      "203: EER = 0.5041, FMR100 = 0.9920, Count = 100\n",
      "206: EER = 0.4941, FMR100 = 0.9860, Count = 100\n",
      "207: EER = 0.4985, FMR100 = 0.9888, Count = 100\n",
      "214: EER = 0.5003, FMR100 = 0.9917, Count = 100\n",
      "219: EER = 0.5043, FMR100 = 0.9892, Count = 100\n",
      "230: EER = 0.5020, FMR100 = 0.9920, Count = 100\n",
      "236: EER = 0.5148, FMR100 = 0.9907, Count = 100\n",
      "245: EER = 0.4980, FMR100 = 0.9920, Count = 100\n",
      "250: EER = 0.5037, FMR100 = 0.9918, Count = 100\n",
      "257: EER = 0.4800, FMR100 = 0.9940, Count = 100\n",
      "260: EER = 0.4973, FMR100 = 0.9906, Count = 100\n",
      "261: EER = 0.5027, FMR100 = 0.9944, Count = 100\n",
      "262: EER = 0.4941, FMR100 = 0.9900, Count = 100\n",
      "265: EER = 0.5016, FMR100 = 0.9908, Count = 100\n",
      "268: EER = 0.4924, FMR100 = 0.9856, Count = 100\n",
      "270: EER = 0.4983, FMR100 = 0.9894, Count = 100\n",
      "281: EER = 0.5022, FMR100 = 0.9922, Count = 100\n",
      "291: EER = 0.4944, FMR100 = 0.9917, Count = 100\n",
      "296: EER = 0.5070, FMR100 = 0.9918, Count = 100\n",
      "299: EER = 0.5020, FMR100 = 0.9924, Count = 100\n",
      "303: EER = 0.5035, FMR100 = 0.9870, Count = 100\n",
      "306: EER = 0.4977, FMR100 = 0.9905, Count = 100\n",
      "314: EER = 0.5005, FMR100 = 0.9980, Count = 100\n",
      "322: EER = 0.4920, FMR100 = 0.9865, Count = 100\n",
      "325: EER = 0.5025, FMR100 = 0.9838, Count = 100\n",
      "342: EER = 0.4977, FMR100 = 0.9886, Count = 100\n",
      "348: EER = 0.5001, FMR100 = 0.9927, Count = 100\n",
      "357: EER = 0.5033, FMR100 = 0.9914, Count = 100\n",
      "364: EER = 0.5048, FMR100 = 0.9867, Count = 100\n",
      "374: EER = 0.4976, FMR100 = 0.9900, Count = 100\n",
      "407: EER = 0.5037, FMR100 = 0.9925, Count = 100\n",
      "414: EER = 0.5063, FMR100 = 0.9912, Count = 100\n",
      "415: EER = 0.5050, FMR100 = 0.9950, Count = 100\n",
      "418: EER = 0.5003, FMR100 = 0.9875, Count = 100\n",
      "419: EER = 0.4964, FMR100 = 0.9850, Count = 100\n",
      "422: EER = 0.4971, FMR100 = 0.9914, Count = 100\n",
      "436: EER = 0.4900, FMR100 = 0.9886, Count = 100\n",
      "Final Average EER: 49.9743\n",
      "Final EER Standard Deviation: 0.5474\n",
      "$49.97 \\pm 0.55$\n"
     ]
    }
   ],
   "source": [
    "#HEREAA\n",
    "\n",
    "# Generate a sequence of indices from 0 to the length of one of the arrays\n",
    "\n",
    "\n",
    "\n",
    "#, s_test_b\n",
    "resutls2,resutls3=assessment_model_data_two(x_test_e.reshape(x_test_e.shape[0], -1), y_test_e, x_test_v.reshape(x_test_v.shape[0], -1), y_test_v, None, distance = \"ed\")\n",
    "#print(\"simple\",EERf(resutls))\n",
    "calculate_and_print_averages(y_test_e, resutls3)"
   ]
  },
  {
   "cell_type": "code",
   "execution_count": 6,
   "id": "1a4d688e-28d5-4e53-bc83-f06b9eb30f2c",
   "metadata": {},
   "outputs": [
    {
     "name": "stdout",
     "output_type": "stream",
     "text": [
      "(5000, 46500)\n",
      "(80643, 46500)\n",
      "(80643, 46500) (5000, 46500)\n",
      "70: EER = 0.4947, FMR100 = 0.9911, Count = 100\n",
      "86: EER = 0.4944, FMR100 = 0.9894, Count = 100\n",
      "96: EER = 0.4947, FMR100 = 0.9882, Count = 100\n",
      "125: EER = 0.4961, FMR100 = 0.9900, Count = 100\n",
      "129: EER = 0.5105, FMR100 = 0.9900, Count = 100\n",
      "167: EER = 0.5100, FMR100 = 1.0000, Count = 100\n"
     ]
    },
    {
     "name": "stderr",
     "output_type": "stream",
     "text": [
      "/home/fallahi/anaconda3/envs/oml/lib/python3.9/site-packages/pyeer/eer_stats.py:219: UserWarning: It is possible that you had set the wrong score type. Please consider reviewing if you are using dissimilarity or similarity scores\n",
      "  warn(\"It is possible that you had set the wrong score\"\n"
     ]
    },
    {
     "name": "stdout",
     "output_type": "stream",
     "text": [
      "174: EER = 0.5125, FMR100 = 0.9939, Count = 100\n",
      "175: EER = 0.4926, FMR100 = 0.9880, Count = 100\n",
      "183: EER = 0.4980, FMR100 = 0.9940, Count = 100\n",
      "194: EER = 0.5064, FMR100 = 0.9900, Count = 100\n",
      "197: EER = 0.5078, FMR100 = 0.9911, Count = 100\n",
      "199: EER = 0.5017, FMR100 = 0.9917, Count = 100\n",
      "201: EER = 0.4991, FMR100 = 0.9906, Count = 100\n",
      "203: EER = 0.5020, FMR100 = 0.9880, Count = 100\n",
      "206: EER = 0.4920, FMR100 = 0.9880, Count = 100\n",
      "207: EER = 0.4976, FMR100 = 0.9890, Count = 100\n",
      "214: EER = 0.4967, FMR100 = 0.9905, Count = 100\n",
      "219: EER = 0.4892, FMR100 = 0.9957, Count = 100\n",
      "230: EER = 0.5121, FMR100 = 0.9940, Count = 100\n",
      "236: EER = 0.5037, FMR100 = 0.9902, Count = 100\n",
      "245: EER = 0.4942, FMR100 = 0.9900, Count = 100\n",
      "250: EER = 0.4999, FMR100 = 0.9902, Count = 100\n",
      "257: EER = 0.5000, FMR100 = 0.9940, Count = 100\n",
      "260: EER = 0.4965, FMR100 = 0.9877, Count = 100\n",
      "261: EER = 0.5022, FMR100 = 0.9956, Count = 100\n",
      "262: EER = 0.4945, FMR100 = 1.0000, Count = 100\n",
      "265: EER = 0.4974, FMR100 = 0.9892, Count = 100\n",
      "268: EER = 0.5001, FMR100 = 0.9911, Count = 100\n",
      "270: EER = 0.4945, FMR100 = 0.9900, Count = 100\n",
      "281: EER = 0.5094, FMR100 = 0.9906, Count = 100\n",
      "291: EER = 0.5023, FMR100 = 0.9939, Count = 100\n",
      "296: EER = 0.5114, FMR100 = 0.9891, Count = 100\n",
      "299: EER = 0.5057, FMR100 = 0.9867, Count = 100\n",
      "303: EER = 0.5085, FMR100 = 0.9890, Count = 100\n",
      "306: EER = 0.4945, FMR100 = 0.9927, Count = 100\n",
      "314: EER = 0.4903, FMR100 = 0.9980, Count = 100\n",
      "322: EER = 0.4940, FMR100 = 0.9880, Count = 100\n",
      "325: EER = 0.5038, FMR100 = 0.9890, Count = 100\n",
      "342: EER = 0.4959, FMR100 = 0.9923, Count = 100\n",
      "348: EER = 0.5019, FMR100 = 0.9936, Count = 100\n",
      "357: EER = 0.4971, FMR100 = 0.9895, Count = 100\n",
      "364: EER = 0.4910, FMR100 = 0.9886, Count = 100\n",
      "374: EER = 0.4937, FMR100 = 0.9874, Count = 100\n",
      "407: EER = 0.5130, FMR100 = 0.9962, Count = 100\n",
      "414: EER = 0.5000, FMR100 = 0.9925, Count = 100\n",
      "415: EER = 0.4987, FMR100 = 0.9912, Count = 100\n",
      "418: EER = 0.5068, FMR100 = 0.9888, Count = 100\n",
      "419: EER = 0.5012, FMR100 = 0.9875, Count = 100\n",
      "422: EER = 0.5046, FMR100 = 0.9914, Count = 100\n",
      "436: EER = 0.4914, FMR100 = 0.9900, Count = 100\n",
      "Final Average EER: 50.0128\n",
      "Final EER Standard Deviation: 0.6443\n",
      "$50.01 \\pm 0.64$\n"
     ]
    }
   ],
   "source": [
    "#HEREAA\n",
    "\n",
    "# Generate a sequence of indices from 0 to the length of one of the arrays\n",
    "\n",
    "\n",
    "\n",
    "#, s_test_b\n",
    "resutls2,resutls3=assessment_model_data_two(x_test_e.reshape(x_test_e.shape[0], -1), y_test_e, x_test_v.reshape(x_test_v.shape[0], -1), y_test_v, None, distance = \"cd\")\n",
    "#print(\"simple\",EERf(resutls))\n",
    "calculate_and_print_averages(y_test_e, resutls3)"
   ]
  },
  {
   "cell_type": "code",
   "execution_count": 7,
   "id": "19ae16de-2988-4abe-8eff-4b0917d08e00",
   "metadata": {},
   "outputs": [],
   "source": [
    "# Flatten each array from 3D to 2D\n",
    "x_test_e = x_test_e.reshape(x_test_e.shape[0], -1)\n",
    "x_test_v= x_test_v.reshape(x_test_v.shape[0], -1)\n",
    "x_test_n = x_neg_r.reshape(x_neg_r.shape[0], -1)"
   ]
  },
  {
   "cell_type": "code",
   "execution_count": 8,
   "id": "c33fcab2-383c-4615-b4db-4a5871447869",
   "metadata": {},
   "outputs": [],
   "source": [
    "from sklearn.ensemble import RandomForestClassifier\n",
    "from sklearn.metrics import roc_curve\n",
    "from sklearn.decomposition import PCA\n",
    "from sklearn.preprocessing import StandardScaler\n",
    "from sklearn.svm import SVC\n",
    "from sklearn.decomposition import IncrementalPCA\n",
    "from sklearn.pipeline import Pipeline\n",
    "from sklearn.utils import shuffle\n",
    "from sklearn.kernel_approximation import RBFSampler\n",
    "from sklearn.linear_model import SGDClassifier\n",
    "from sklearn.preprocessing import StandardScaler\n",
    "from sklearn.pipeline import Pipeline\n",
    "from sklearn.utils import shuffle\n",
    "\n",
    "\n",
    "def calculate_eer(y_true, y_scores):\n",
    "    \"\"\"\n",
    "    Calculate the Equal Error Rate (EER) and FMR100 using pyeer.\n",
    "    \"\"\"\n",
    "    # Separate genuine and impostor scores\n",
    "    genuine_scores = y_scores[y_true == 1]\n",
    "    impostor_scores = y_scores[y_true == 0]\n",
    "    #print(y_true, y_scores)\n",
    "\n",
    "    #print(genuine_scores, impostor_scores)\n",
    "    print(\"genuine_scores: \", len(genuine_scores), sum(genuine_scores)/len(genuine_scores), \"impostor_scores\", len(impostor_scores), sum(impostor_scores)/len(impostor_scores))\n",
    "    \n",
    "    # Use pyeer to compute EER stats\n",
    "    stats = get_eer_stats(genuine_scores, impostor_scores)\n",
    "    \n",
    "    return stats.eer\n",
    "\n",
    "def classifiers_learn(enrollment_data, ye, verification_data, yv, e_network, negative_raw):\n",
    "    \"\"\"\n",
    "    Learn classifiers per unique subject and evaluate using EER.\n",
    "    \"\"\"\n",
    "    x_enrollment, y_enrollment = enrollment_data, ye\n",
    "    x_verification, y_verification = verification_data, yv\n",
    "    \n",
    "    # Compute embeddings\n",
    "    enrollment_embeddings = compute_embedding_batch_two(x_enrollment, e_network)\n",
    "    verification_embeddings = compute_embedding_batch_two(x_verification, e_network)\n",
    "    negative_embeddings = compute_embedding_batch_two(negative_raw, e_network)\n",
    "    \n",
    "    unique_classes = np.unique(y_enrollment)\n",
    "    results = {}\n",
    "\n",
    "    print(\"Unique classes: \", unique_classes)\n",
    "\n",
    "    for cls in unique_classes:\n",
    "        # Prepare training data\n",
    "        positive_indices = np.where(y_enrollment == cls)[0]\n",
    "        negative_indices = np.arange(len(negative_embeddings))\n",
    "        \n",
    "        train_embeddings = np.concatenate([enrollment_embeddings[positive_indices], negative_embeddings])\n",
    "        train_labels = np.concatenate([np.ones(len(positive_indices)), np.zeros(len(negative_indices))])\n",
    "\n",
    "        # Prepare testing data\n",
    "        test_embeddings = verification_embeddings\n",
    "        test_labels =(y_verification == cls).astype(int)\n",
    "\n",
    "\n",
    "        # Initialize Incremental PCA\n",
    "        #pca = IncrementalPCA(n_components=50)  # Retain 80% of variance or specify a fixed number of components\n",
    "        \n",
    "\n",
    "        #batch_size = 5000  # Define batch size\n",
    "        #for i in range(0, train_embeddings.shape[0], batch_size):\n",
    "            #batch = train_embeddings[i:i + batch_size]\n",
    "            #pca.partial_fit(batch)  \n",
    "        #train_embeddings_reduced = pca.transform(train_embeddings)\n",
    "        #print(\"Reduced Training Shape:\", train_embeddings_reduced.shape)\n",
    "        #test_embeddings_reduced = pca.transform(test_embeddings)\n",
    "        #print(\"Reduced Test Shape:\", test_embeddings_reduced.shape)\n",
    "\n",
    "        # Train Random Forest model\n",
    "        #rf_model = RandomForestClassifier(random_state=42, class_weight='balanced', n_jobs=-1)\n",
    "        #rf_model.fit(train_embeddings, train_labels)\n",
    "        #rf_probabilities = rf_model.predict_proba(test_embeddings)[:, 1]  # Use probabilities for EER calculation\n",
    "\n",
    "        \n",
    "        pipeline = Pipeline([\n",
    "            ('scaler', StandardScaler()),\n",
    "            ('classifier', RandomForestClassifier(random_state=42, class_weight='balanced', n_jobs=20))\n",
    "            #('classifier', SVC(probability=True, random_state=42, class_weight='balanced'))\n",
    "            #('classifier', KNeighborsClassifier(n_neighbors=20, weights='distance'))\n",
    "        ])\n",
    "        #svm_model = SVC(probability=True, random_state=42, class_weight='balanced')\n",
    "        X, y = shuffle(train_embeddings, train_labels, random_state=42)\n",
    "        pipeline.fit(X, y)\n",
    "        probabilities = pipeline.predict_proba(test_embeddings)[:, 1]\n",
    "\n",
    "        # Calculate EER\n",
    "        rf_eer = calculate_eer(test_labels, probabilities)\n",
    "\n",
    "        print(f\"Class {cls}: RandomForest EER = {rf_eer:.4f}\")\n",
    "\n",
    "        results[cls] = {\n",
    "            'RandomForest': {'EER': rf_eer}\n",
    "        }\n",
    "\n",
    "    return results\n",
    "\n",
    "def calculate_mean_std(results):\n",
    "    \"\"\"\n",
    "    Calculate the mean and standard deviation of EER values for each model in the results dictionary.\n",
    "    \n",
    "    Args:\n",
    "        results (dict): A dictionary where keys are classes, and values are dictionaries containing model metrics.\n",
    "                        Example: {cls: {'RandomForest': {'EER': value}}}\n",
    "    \n",
    "    Returns:\n",
    "        dict: A dictionary containing mean and std for each model across all classes.\n",
    "    \"\"\"\n",
    "    # Extract EER values for each model\n",
    "    model_eer_values = {}\n",
    "    for cls, metrics in results.items():\n",
    "        for model, model_metrics in metrics.items():\n",
    "            if model not in model_eer_values:\n",
    "                model_eer_values[model] = []\n",
    "            model_eer_values[model].append(model_metrics['EER'])\n",
    "    \n",
    "    # Calculate mean and std\n",
    "    model_stats = {}\n",
    "    for model, eer_values in model_eer_values.items():\n",
    "        mean = np.mean(eer_values) * 100\n",
    "        std = np.std(eer_values) * 100\n",
    "        model_stats[model] = {'mean': mean, 'std': std}\n",
    "        print(f\"Final Average EER {model}: {mean:.4f}\")\n",
    "        print(f\"Final EER Standard Deviation {model}: {std:.4f}\")\n",
    "        print(f\"${mean:.2f} \\\\pm {std:.2f}$\") \n",
    "        \n",
    "   \n",
    "    return model_stats\n"
   ]
  },
  {
   "cell_type": "code",
   "execution_count": 9,
   "id": "4b537880-4112-4d0c-a71f-0415367b4bc8",
   "metadata": {},
   "outputs": [
    {
     "name": "stdout",
     "output_type": "stream",
     "text": [
      "(5000, 46500)\n",
      "(80643, 46500)\n",
      "(84408, 46500)\n",
      "Unique classes:  [ 70  86  96 125 129 167 174 175 183 194 197 199 201 203 206 207 214 219\n",
      " 230 236 245 250 257 260 261 262 265 268 270 281 291 296 299 303 306 314\n",
      " 322 325 342 348 357 364 374 407 414 415 418 419 422 436]\n",
      "genuine_scores:  1800 0.9423333333333581 impostor_scores 78843 0.9415853024364665\n",
      "Class 70: RandomForest EER = 0.4905\n",
      "genuine_scores:  1800 0.9405222222222456 impostor_scores 78843 0.9413351851146919\n",
      "Class 86: RandomForest EER = 0.5047\n"
     ]
    },
    {
     "name": "stderr",
     "output_type": "stream",
     "text": [
      "/home/fallahi/anaconda3/envs/oml/lib/python3.9/site-packages/pyeer/eer_stats.py:219: UserWarning: It is possible that you had set the wrong score type. Please consider reviewing if you are using dissimilarity or similarity scores\n",
      "  warn(\"It is possible that you had set the wrong score\"\n"
     ]
    },
    {
     "name": "stdout",
     "output_type": "stream",
     "text": [
      "genuine_scores:  1700 0.9388705882353148 impostor_scores 78943 0.9383436150133444\n",
      "Class 96: RandomForest EER = 0.4939\n",
      "genuine_scores:  1800 0.9376777777778017 impostor_scores 78843 0.9379725530484393\n",
      "Class 125: RandomForest EER = 0.4958\n"
     ]
    },
    {
     "name": "stderr",
     "output_type": "stream",
     "text": [
      "/home/fallahi/anaconda3/envs/oml/lib/python3.9/site-packages/pyeer/eer_stats.py:219: UserWarning: It is possible that you had set the wrong score type. Please consider reviewing if you are using dissimilarity or similarity scores\n",
      "  warn(\"It is possible that you had set the wrong score\"\n"
     ]
    },
    {
     "name": "stdout",
     "output_type": "stream",
     "text": [
      "genuine_scores:  400 0.9398499999999997 impostor_scores 80243 0.9404119985543563\n",
      "Class 129: RandomForest EER = 0.5045\n"
     ]
    },
    {
     "name": "stderr",
     "output_type": "stream",
     "text": [
      "/home/fallahi/anaconda3/envs/oml/lib/python3.9/site-packages/pyeer/eer_stats.py:219: UserWarning: It is possible that you had set the wrong score type. Please consider reviewing if you are using dissimilarity or similarity scores\n",
      "  warn(\"It is possible that you had set the wrong score\"\n"
     ]
    },
    {
     "name": "stdout",
     "output_type": "stream",
     "text": [
      "genuine_scores:  100 0.9340000000000006 impostor_scores 80543 0.9374906571644563\n",
      "Class 167: RandomForest EER = 0.5269\n"
     ]
    },
    {
     "name": "stderr",
     "output_type": "stream",
     "text": [
      "/home/fallahi/anaconda3/envs/oml/lib/python3.9/site-packages/pyeer/eer_stats.py:219: UserWarning: It is possible that you had set the wrong score type. Please consider reviewing if you are using dissimilarity or similarity scores\n",
      "  warn(\"It is possible that you had set the wrong score\"\n"
     ]
    },
    {
     "name": "stdout",
     "output_type": "stream",
     "text": [
      "genuine_scores:  1800 0.9420666666666909 impostor_scores 78843 0.9409206904861321\n",
      "Class 174: RandomForest EER = 0.4894\n",
      "genuine_scores:  500 0.9389400000000007 impostor_scores 80143 0.9386423018853536\n",
      "Class 175: RandomForest EER = 0.4971\n",
      "genuine_scores:  500 0.9325200000000001 impostor_scores 80143 0.9337611519408706\n",
      "Class 183: RandomForest EER = 0.5073\n"
     ]
    },
    {
     "name": "stderr",
     "output_type": "stream",
     "text": [
      "/home/fallahi/anaconda3/envs/oml/lib/python3.9/site-packages/pyeer/eer_stats.py:219: UserWarning: It is possible that you had set the wrong score type. Please consider reviewing if you are using dissimilarity or similarity scores\n",
      "  warn(\"It is possible that you had set the wrong score\"\n"
     ]
    },
    {
     "name": "stdout",
     "output_type": "stream",
     "text": [
      "genuine_scores:  1800 0.9451333333333576 impostor_scores 78843 0.9438358509950138\n",
      "Class 194: RandomForest EER = 0.4914\n",
      "genuine_scores:  1800 0.9393777777778002 impostor_scores 78843 0.9397311111956458\n",
      "Class 197: RandomForest EER = 0.5035\n"
     ]
    },
    {
     "name": "stderr",
     "output_type": "stream",
     "text": [
      "/home/fallahi/anaconda3/envs/oml/lib/python3.9/site-packages/pyeer/eer_stats.py:219: UserWarning: It is possible that you had set the wrong score type. Please consider reviewing if you are using dissimilarity or similarity scores\n",
      "  warn(\"It is possible that you had set the wrong score\"\n"
     ]
    },
    {
     "name": "stdout",
     "output_type": "stream",
     "text": [
      "genuine_scores:  1800 0.9360944444444679 impostor_scores 78843 0.9354226754435806\n",
      "Class 199: RandomForest EER = 0.5009\n",
      "genuine_scores:  1800 0.9312444444444684 impostor_scores 78843 0.9317811346600058\n",
      "Class 201: RandomForest EER = 0.4991\n"
     ]
    },
    {
     "name": "stderr",
     "output_type": "stream",
     "text": [
      "/home/fallahi/anaconda3/envs/oml/lib/python3.9/site-packages/pyeer/eer_stats.py:219: UserWarning: It is possible that you had set the wrong score type. Please consider reviewing if you are using dissimilarity or similarity scores\n",
      "  warn(\"It is possible that you had set the wrong score\"\n"
     ]
    },
    {
     "name": "stdout",
     "output_type": "stream",
     "text": [
      "genuine_scores:  500 0.9360999999999999 impostor_scores 80143 0.9372038730768348\n",
      "Class 203: RandomForest EER = 0.5021\n"
     ]
    },
    {
     "name": "stderr",
     "output_type": "stream",
     "text": [
      "/home/fallahi/anaconda3/envs/oml/lib/python3.9/site-packages/pyeer/eer_stats.py:219: UserWarning: It is possible that you had set the wrong score type. Please consider reviewing if you are using dissimilarity or similarity scores\n",
      "  warn(\"It is possible that you had set the wrong score\"\n"
     ]
    },
    {
     "name": "stdout",
     "output_type": "stream",
     "text": [
      "genuine_scores:  500 0.9358400000000003 impostor_scores 80143 0.9351681369551696\n",
      "Class 206: RandomForest EER = 0.4987\n",
      "genuine_scores:  4000 0.9409124999999858 impostor_scores 76643 0.9405412105475743\n",
      "Class 207: RandomForest EER = 0.4943\n",
      "genuine_scores:  1679 0.9339666468135999 impostor_scores 78964 0.9336039207739834\n",
      "Class 214: RandomForest EER = 0.4970\n",
      "genuine_scores:  464 0.9323706896551733 impostor_scores 80179 0.9345364746379484\n",
      "Class 219: RandomForest EER = 0.5119\n"
     ]
    },
    {
     "name": "stderr",
     "output_type": "stream",
     "text": [
      "/home/fallahi/anaconda3/envs/oml/lib/python3.9/site-packages/pyeer/eer_stats.py:219: UserWarning: It is possible that you had set the wrong score type. Please consider reviewing if you are using dissimilarity or similarity scores\n",
      "  warn(\"It is possible that you had set the wrong score\"\n"
     ]
    },
    {
     "name": "stdout",
     "output_type": "stream",
     "text": [
      "genuine_scores:  500 0.9416399999999993 impostor_scores 80143 0.941922189086985\n",
      "Class 230: RandomForest EER = 0.5010\n"
     ]
    },
    {
     "name": "stderr",
     "output_type": "stream",
     "text": [
      "/home/fallahi/anaconda3/envs/oml/lib/python3.9/site-packages/pyeer/eer_stats.py:219: UserWarning: It is possible that you had set the wrong score type. Please consider reviewing if you are using dissimilarity or similarity scores\n",
      "  warn(\"It is possible that you had set the wrong score\"\n"
     ]
    },
    {
     "name": "stdout",
     "output_type": "stream",
     "text": [
      "genuine_scores:  4100 0.9375731707316959 impostor_scores 76543 0.9387110513044761\n",
      "Class 236: RandomForest EER = 0.5121\n"
     ]
    },
    {
     "name": "stderr",
     "output_type": "stream",
     "text": [
      "/home/fallahi/anaconda3/envs/oml/lib/python3.9/site-packages/pyeer/eer_stats.py:219: UserWarning: It is possible that you had set the wrong score type. Please consider reviewing if you are using dissimilarity or similarity scores\n",
      "  warn(\"It is possible that you had set the wrong score\"\n"
     ]
    },
    {
     "name": "stdout",
     "output_type": "stream",
     "text": [
      "genuine_scores:  500 0.9420200000000007 impostor_scores 80143 0.9416159864242433\n",
      "Class 245: RandomForest EER = 0.4905\n",
      "genuine_scores:  4000 0.9410699999999882 impostor_scores 76643 0.9416861291963964\n",
      "Class 250: RandomForest EER = 0.5009\n"
     ]
    },
    {
     "name": "stderr",
     "output_type": "stream",
     "text": [
      "/home/fallahi/anaconda3/envs/oml/lib/python3.9/site-packages/pyeer/eer_stats.py:219: UserWarning: It is possible that you had set the wrong score type. Please consider reviewing if you are using dissimilarity or similarity scores\n",
      "  warn(\"It is possible that you had set the wrong score\"\n"
     ]
    },
    {
     "name": "stdout",
     "output_type": "stream",
     "text": [
      "genuine_scores:  500 0.9364400000000005 impostor_scores 80143 0.9370956914515052\n",
      "Class 257: RandomForest EER = 0.5062\n"
     ]
    },
    {
     "name": "stderr",
     "output_type": "stream",
     "text": [
      "/home/fallahi/anaconda3/envs/oml/lib/python3.9/site-packages/pyeer/eer_stats.py:219: UserWarning: It is possible that you had set the wrong score type. Please consider reviewing if you are using dissimilarity or similarity scores\n",
      "  warn(\"It is possible that you had set the wrong score\"\n"
     ]
    },
    {
     "name": "stdout",
     "output_type": "stream",
     "text": [
      "genuine_scores:  4800 0.9415145833333118 impostor_scores 75843 0.9415740411112361\n",
      "Class 260: RandomForest EER = 0.5004\n"
     ]
    },
    {
     "name": "stderr",
     "output_type": "stream",
     "text": [
      "/home/fallahi/anaconda3/envs/oml/lib/python3.9/site-packages/pyeer/eer_stats.py:219: UserWarning: It is possible that you had set the wrong score type. Please consider reviewing if you are using dissimilarity or similarity scores\n",
      "  warn(\"It is possible that you had set the wrong score\"\n"
     ]
    },
    {
     "name": "stdout",
     "output_type": "stream",
     "text": [
      "genuine_scores:  900 0.9422777777777814 impostor_scores 79743 0.9411392849528876\n",
      "Class 261: RandomForest EER = 0.4928\n",
      "genuine_scores:  500 0.9326600000000016 impostor_scores 80143 0.9316706387332299\n",
      "Class 262: RandomForest EER = 0.5021\n",
      "genuine_scores:  3900 0.9414410256410158 impostor_scores 76743 0.9414741409639881\n",
      "Class 265: RandomForest EER = 0.4966\n",
      "genuine_scores:  1800 0.9393666666666893 impostor_scores 78843 0.9403756833199964\n",
      "Class 268: RandomForest EER = 0.5080\n"
     ]
    },
    {
     "name": "stderr",
     "output_type": "stream",
     "text": [
      "/home/fallahi/anaconda3/envs/oml/lib/python3.9/site-packages/pyeer/eer_stats.py:219: UserWarning: It is possible that you had set the wrong score type. Please consider reviewing if you are using dissimilarity or similarity scores\n",
      "  warn(\"It is possible that you had set the wrong score\"\n"
     ]
    },
    {
     "name": "stdout",
     "output_type": "stream",
     "text": [
      "genuine_scores:  1800 0.9426833333333582 impostor_scores 78843 0.9426896490493668\n",
      "Class 270: RandomForest EER = 0.4941\n",
      "genuine_scores:  1800 0.9338111111111335 impostor_scores 78843 0.9348195781489563\n",
      "Class 281: RandomForest EER = 0.5092\n"
     ]
    },
    {
     "name": "stderr",
     "output_type": "stream",
     "text": [
      "/home/fallahi/anaconda3/envs/oml/lib/python3.9/site-packages/pyeer/eer_stats.py:219: UserWarning: It is possible that you had set the wrong score type. Please consider reviewing if you are using dissimilarity or similarity scores\n",
      "  warn(\"It is possible that you had set the wrong score\"\n"
     ]
    },
    {
     "name": "stdout",
     "output_type": "stream",
     "text": [
      "genuine_scores:  1800 0.943527777777801 impostor_scores 78843 0.943268394150395\n",
      "Class 291: RandomForest EER = 0.4985\n",
      "genuine_scores:  2200 0.9423954545454815 impostor_scores 78443 0.9412080109123779\n",
      "Class 296: RandomForest EER = 0.4883\n",
      "genuine_scores:  2100 0.9371428571428861 impostor_scores 78543 0.9370473498592782\n",
      "Class 299: RandomForest EER = 0.4957\n",
      "genuine_scores:  2000 0.9394500000000264 impostor_scores 78643 0.9388914461553839\n",
      "Class 303: RandomForest EER = 0.4913\n",
      "genuine_scores:  2200 0.9386636363636638 impostor_scores 78443 0.9372739441377551\n",
      "Class 306: RandomForest EER = 0.4863\n",
      "genuine_scores:  500 0.9388800000000002 impostor_scores 80143 0.9393675055837537\n",
      "Class 314: RandomForest EER = 0.4979\n"
     ]
    },
    {
     "name": "stderr",
     "output_type": "stream",
     "text": [
      "/home/fallahi/anaconda3/envs/oml/lib/python3.9/site-packages/pyeer/eer_stats.py:219: UserWarning: It is possible that you had set the wrong score type. Please consider reviewing if you are using dissimilarity or similarity scores\n",
      "  warn(\"It is possible that you had set the wrong score\"\n"
     ]
    },
    {
     "name": "stdout",
     "output_type": "stream",
     "text": [
      "genuine_scores:  2000 0.940420000000027 impostor_scores 78643 0.9409538038986173\n",
      "Class 322: RandomForest EER = 0.5039\n"
     ]
    },
    {
     "name": "stderr",
     "output_type": "stream",
     "text": [
      "/home/fallahi/anaconda3/envs/oml/lib/python3.9/site-packages/pyeer/eer_stats.py:219: UserWarning: It is possible that you had set the wrong score type. Please consider reviewing if you are using dissimilarity or similarity scores\n",
      "  warn(\"It is possible that you had set the wrong score\"\n"
     ]
    },
    {
     "name": "stdout",
     "output_type": "stream",
     "text": [
      "genuine_scores:  2100 0.935485714285742 impostor_scores 78543 0.9352931515220635\n",
      "Class 325: RandomForest EER = 0.4998\n",
      "genuine_scores:  2200 0.9388863636363914 impostor_scores 78443 0.9396438178039961\n",
      "Class 342: RandomForest EER = 0.5028\n"
     ]
    },
    {
     "name": "stderr",
     "output_type": "stream",
     "text": [
      "/home/fallahi/anaconda3/envs/oml/lib/python3.9/site-packages/pyeer/eer_stats.py:219: UserWarning: It is possible that you had set the wrong score type. Please consider reviewing if you are using dissimilarity or similarity scores\n",
      "  warn(\"It is possible that you had set the wrong score\"\n"
     ]
    },
    {
     "name": "stdout",
     "output_type": "stream",
     "text": [
      "genuine_scores:  2200 0.9346045454545746 impostor_scores 78443 0.9353349565926544\n",
      "Class 348: RandomForest EER = 0.5041\n"
     ]
    },
    {
     "name": "stderr",
     "output_type": "stream",
     "text": [
      "/home/fallahi/anaconda3/envs/oml/lib/python3.9/site-packages/pyeer/eer_stats.py:219: UserWarning: It is possible that you had set the wrong score type. Please consider reviewing if you are using dissimilarity or similarity scores\n",
      "  warn(\"It is possible that you had set the wrong score\"\n"
     ]
    },
    {
     "name": "stdout",
     "output_type": "stream",
     "text": [
      "genuine_scores:  2100 0.9369190476190757 impostor_scores 78543 0.9369965496606592\n",
      "Class 357: RandomForest EER = 0.4980\n"
     ]
    },
    {
     "name": "stderr",
     "output_type": "stream",
     "text": [
      "/home/fallahi/anaconda3/envs/oml/lib/python3.9/site-packages/pyeer/eer_stats.py:219: UserWarning: It is possible that you had set the wrong score type. Please consider reviewing if you are using dissimilarity or similarity scores\n",
      "  warn(\"It is possible that you had set the wrong score\"\n"
     ]
    },
    {
     "name": "stdout",
     "output_type": "stream",
     "text": [
      "genuine_scores:  2100 0.9392333333333621 impostor_scores 78543 0.9392812854105089\n",
      "Class 364: RandomForest EER = 0.5024\n"
     ]
    },
    {
     "name": "stderr",
     "output_type": "stream",
     "text": [
      "/home/fallahi/anaconda3/envs/oml/lib/python3.9/site-packages/pyeer/eer_stats.py:219: UserWarning: It is possible that you had set the wrong score type. Please consider reviewing if you are using dissimilarity or similarity scores\n",
      "  warn(\"It is possible that you had set the wrong score\"\n"
     ]
    },
    {
     "name": "stdout",
     "output_type": "stream",
     "text": [
      "genuine_scores:  1900 0.9452684210526571 impostor_scores 78743 0.9446212361733538\n",
      "Class 374: RandomForest EER = 0.4936\n",
      "genuine_scores:  800 0.9373000000000021 impostor_scores 79843 0.9365276855829233\n",
      "Class 407: RandomForest EER = 0.4978\n",
      "genuine_scores:  800 0.939162500000002 impostor_scores 79843 0.9387376476334652\n",
      "Class 414: RandomForest EER = 0.4976\n",
      "genuine_scores:  800 0.9374875000000018 impostor_scores 79843 0.938618789374105\n",
      "Class 415: RandomForest EER = 0.5081\n"
     ]
    },
    {
     "name": "stderr",
     "output_type": "stream",
     "text": [
      "/home/fallahi/anaconda3/envs/oml/lib/python3.9/site-packages/pyeer/eer_stats.py:219: UserWarning: It is possible that you had set the wrong score type. Please consider reviewing if you are using dissimilarity or similarity scores\n",
      "  warn(\"It is possible that you had set the wrong score\"\n"
     ]
    },
    {
     "name": "stdout",
     "output_type": "stream",
     "text": [
      "genuine_scores:  800 0.9382500000000041 impostor_scores 79843 0.938772716456021\n",
      "Class 418: RandomForest EER = 0.4993\n"
     ]
    },
    {
     "name": "stderr",
     "output_type": "stream",
     "text": [
      "/home/fallahi/anaconda3/envs/oml/lib/python3.9/site-packages/pyeer/eer_stats.py:219: UserWarning: It is possible that you had set the wrong score type. Please consider reviewing if you are using dissimilarity or similarity scores\n",
      "  warn(\"It is possible that you had set the wrong score\"\n"
     ]
    },
    {
     "name": "stdout",
     "output_type": "stream",
     "text": [
      "genuine_scores:  800 0.9384375000000031 impostor_scores 79843 0.937589394186054\n",
      "Class 419: RandomForest EER = 0.4930\n",
      "genuine_scores:  700 0.9378857142857162 impostor_scores 79943 0.9357209511776631\n",
      "Class 422: RandomForest EER = 0.4889\n",
      "genuine_scores:  700 0.9373428571428604 impostor_scores 79943 0.9384327583403057\n",
      "Class 436: RandomForest EER = 0.4953\n",
      "Final Average EER RandomForest: 49.9307\n",
      "Final EER Standard Deviation RandomForest: 0.7280\n",
      "$49.93 \\pm 0.73$\n"
     ]
    },
    {
     "name": "stderr",
     "output_type": "stream",
     "text": [
      "/home/fallahi/anaconda3/envs/oml/lib/python3.9/site-packages/pyeer/eer_stats.py:219: UserWarning: It is possible that you had set the wrong score type. Please consider reviewing if you are using dissimilarity or similarity scores\n",
      "  warn(\"It is possible that you had set the wrong score\"\n"
     ]
    },
    {
     "data": {
      "text/plain": [
       "{'RandomForest': {'mean': 49.93067916609846, 'std': 0.7279852915207007}}"
      ]
     },
     "execution_count": 9,
     "metadata": {},
     "output_type": "execute_result"
    }
   ],
   "source": [
    "# Test your pipeline with synthetic data\n",
    "\n",
    "\n",
    "\n",
    "resutls = classifiers_learn(\n",
    "    x_test_e, y_test_e, x_test_v, y_test_v, None, x_test_n\n",
    ")\n",
    "# Print results\n",
    "#print(\"EER:\", EERf(resutls))\n",
    "\n",
    "calculate_mean_std(resutls)"
   ]
  },
  {
   "cell_type": "code",
   "execution_count": null,
   "id": "87a7f397-d751-4811-9cc0-2a30b5b73662",
   "metadata": {},
   "outputs": [],
   "source": []
  },
  {
   "cell_type": "code",
   "execution_count": null,
   "id": "0e467d96-66ec-4da2-8c3d-f80db642438d",
   "metadata": {},
   "outputs": [],
   "source": []
  },
  {
   "cell_type": "code",
   "execution_count": null,
   "id": "9b1c3347-940f-407d-a0f7-19f1205ff8d6",
   "metadata": {},
   "outputs": [],
   "source": []
  },
  {
   "cell_type": "code",
   "execution_count": 10,
   "id": "5be5749c-bfbc-4445-b427-e3686a4f0791",
   "metadata": {},
   "outputs": [],
   "source": [
    "#from sklearn.ensemble import RandomForestClassifier\n",
    "from sklearn.metrics import roc_curve\n",
    "from sklearn.decomposition import PCA\n",
    "from sklearn.preprocessing import StandardScaler\n",
    "from sklearn.svm import SVC\n",
    "from sklearn.decomposition import IncrementalPCA\n",
    "from sklearn.pipeline import Pipeline\n",
    "from sklearn.utils import shuffle\n",
    "from sklearn.kernel_approximation import RBFSampler\n",
    "from sklearn.linear_model import SGDClassifier\n",
    "from sklearn.preprocessing import StandardScaler\n",
    "from sklearn.pipeline import Pipeline\n",
    "from sklearn.utils import shuffle\n",
    "\n",
    "\n",
    "def classifiers_learn(enrollment_data, ye, verification_data, yv, e_network, negative_raw):\n",
    "    \"\"\"\n",
    "    Learn classifiers per unique subject and evaluate using EER.\n",
    "    \"\"\"\n",
    "    x_enrollment, y_enrollment = enrollment_data, ye\n",
    "    x_verification, y_verification = verification_data, yv\n",
    "    \n",
    "    # Compute embeddings\n",
    "    enrollment_embeddings = compute_embedding_batch_two(x_enrollment, e_network)\n",
    "    verification_embeddings = compute_embedding_batch_two(x_verification, e_network)\n",
    "    negative_embeddings = compute_embedding_batch_two(negative_raw, e_network)\n",
    "    \n",
    "    unique_classes = np.unique(y_enrollment)\n",
    "    results = {}\n",
    "\n",
    "    print(\"Unique classes: \", unique_classes)\n",
    "\n",
    "    for cls in unique_classes:\n",
    "        # Prepare training data\n",
    "        positive_indices = np.where(y_enrollment == cls)[0]\n",
    "        negative_indices = np.arange(len(negative_embeddings))\n",
    "        \n",
    "        train_embeddings = np.concatenate([enrollment_embeddings[positive_indices], negative_embeddings])\n",
    "        train_labels = np.concatenate([np.ones(len(positive_indices)), np.zeros(len(negative_indices))])\n",
    "\n",
    "        # Prepare testing data\n",
    "        test_embeddings = verification_embeddings\n",
    "        test_labels =(y_verification == cls).astype(int)\n",
    "\n",
    "\n",
    "        # Initialize Incremental PCA\n",
    "        #pca = IncrementalPCA(n_components=50)  # Retain 80% of variance or specify a fixed number of components\n",
    "        \n",
    "\n",
    "        #batch_size = 5000  # Define batch size\n",
    "        #for i in range(0, train_embeddings.shape[0], batch_size):\n",
    "            #batch = train_embeddings[i:i + batch_size]\n",
    "            #pca.partial_fit(batch)  \n",
    "        #train_embeddings_reduced = pca.transform(train_embeddings)\n",
    "        #print(\"Reduced Training Shape:\", train_embeddings_reduced.shape)\n",
    "        #test_embeddings_reduced = pca.transform(test_embeddings)\n",
    "        #print(\"Reduced Test Shape:\", test_embeddings_reduced.shape)\n",
    "\n",
    "        # Train Random Forest model\n",
    "        #rf_model = RandomForestClassifier(random_state=42, class_weight='balanced', n_jobs=-1)\n",
    "        #rf_model.fit(train_embeddings, train_labels)\n",
    "        #rf_probabilities = rf_model.predict_proba(test_embeddings)[:, 1]  # Use probabilities for EER calculation\n",
    "\n",
    "        \n",
    "        # Replace RandomForest with Linear SVM + Kernel Approximation\n",
    "        pipeline = Pipeline([\n",
    "            ('scaler', StandardScaler()),\n",
    "            ('kernel_approximation', RBFSampler(gamma=1, random_state=42, n_components=500)),  # Approximate RBF kernel\n",
    "            ('classifier', SGDClassifier(loss='hinge', max_iter=1000, tol=1e-3, class_weight='balanced', random_state=42, n_jobs=20))\n",
    "        ])\n",
    "        \n",
    "        # Shuffle and split the data\n",
    "        X, y = shuffle(train_embeddings, train_labels, random_state=42)\n",
    "        \n",
    "        # Train the pipeline\n",
    "        pipeline.fit(X, y)\n",
    "        \n",
    "        # Predict probabilities for the test set\n",
    "        # Note: SGDClassifier doesn't provide probabilities directly, so we use decision_function\n",
    "        decision_scores = pipeline.decision_function(test_embeddings)\n",
    "        probabilities = 1 / (1 + np.exp(-decision_scores))  # Sigmoid function to map decision scores to probabilities\n",
    "        \n",
    "        # Calculate EER\n",
    "        svm_eer = calculate_eer(test_labels, probabilities)\n",
    "        \n",
    "        print(f\"Class {cls}: Linear SVM with Kernel Approximation EER = {svm_eer:.4f}\")\n",
    "        \n",
    "        results[cls] = {\n",
    "            'RandomForest': {'EER': svm_eer}\n",
    "        }\n",
    "        \n",
    "    return results\n",
    "\n"
   ]
  },
  {
   "cell_type": "code",
   "execution_count": 11,
   "id": "da6172a3-8e16-40da-853d-c323efd3ae25",
   "metadata": {},
   "outputs": [
    {
     "name": "stdout",
     "output_type": "stream",
     "text": [
      "(5000, 46500)\n",
      "(80643, 46500)\n",
      "(84408, 46500)\n",
      "Unique classes:  [ 70  86  96 125 129 167 174 175 183 194 197 199 201 203 206 207 214 219\n",
      " 230 236 245 250 257 260 261 262 265 268 270 281 291 296 299 303 306 314\n",
      " 322 325 342 348 357 364 374 407 414 415 418 419 422 436]\n",
      "genuine_scores:  1800 0.99997788334486 impostor_scores 78843 0.9999779644295468\n",
      "Class 70: Linear SVM with Kernel Approximation EER = 0.4983\n",
      "genuine_scores:  1800 0.9999787406004029 impostor_scores 78843 0.9999786536107788\n",
      "Class 86: Linear SVM with Kernel Approximation EER = 0.5024\n"
     ]
    },
    {
     "name": "stderr",
     "output_type": "stream",
     "text": [
      "/home/fallahi/anaconda3/envs/oml/lib/python3.9/site-packages/pyeer/eer_stats.py:219: UserWarning: It is possible that you had set the wrong score type. Please consider reviewing if you are using dissimilarity or similarity scores\n",
      "  warn(\"It is possible that you had set the wrong score\"\n"
     ]
    },
    {
     "name": "stdout",
     "output_type": "stream",
     "text": [
      "genuine_scores:  1700 0.9999819135675441 impostor_scores 78943 0.9999816650431291\n",
      "Class 96: Linear SVM with Kernel Approximation EER = 0.4953\n",
      "genuine_scores:  1800 0.999979442543141 impostor_scores 78843 0.9999789937617309\n",
      "Class 125: Linear SVM with Kernel Approximation EER = 0.4983\n",
      "genuine_scores:  400 0.9999653932858321 impostor_scores 80243 0.9999663336583453\n",
      "Class 129: Linear SVM with Kernel Approximation EER = 0.5125\n"
     ]
    },
    {
     "name": "stderr",
     "output_type": "stream",
     "text": [
      "/home/fallahi/anaconda3/envs/oml/lib/python3.9/site-packages/pyeer/eer_stats.py:219: UserWarning: It is possible that you had set the wrong score type. Please consider reviewing if you are using dissimilarity or similarity scores\n",
      "  warn(\"It is possible that you had set the wrong score\"\n"
     ]
    },
    {
     "name": "stdout",
     "output_type": "stream",
     "text": [
      "genuine_scores:  100 0.9999494148416223 impostor_scores 80543 0.9999481818829846\n",
      "Class 167: Linear SVM with Kernel Approximation EER = 0.4729\n",
      "genuine_scores:  1800 0.999955395755432 impostor_scores 78843 0.9999560459727933\n",
      "Class 174: Linear SVM with Kernel Approximation EER = 0.5094\n"
     ]
    },
    {
     "name": "stderr",
     "output_type": "stream",
     "text": [
      "/home/fallahi/anaconda3/envs/oml/lib/python3.9/site-packages/pyeer/eer_stats.py:219: UserWarning: It is possible that you had set the wrong score type. Please consider reviewing if you are using dissimilarity or similarity scores\n",
      "  warn(\"It is possible that you had set the wrong score\"\n"
     ]
    },
    {
     "name": "stdout",
     "output_type": "stream",
     "text": [
      "genuine_scores:  500 0.9999836773041373 impostor_scores 80143 0.9999837109445592\n",
      "Class 175: Linear SVM with Kernel Approximation EER = 0.4965\n",
      "genuine_scores:  500 0.9999796541174112 impostor_scores 80143 0.9999806485413014\n",
      "Class 183: Linear SVM with Kernel Approximation EER = 0.5265\n"
     ]
    },
    {
     "name": "stderr",
     "output_type": "stream",
     "text": [
      "/home/fallahi/anaconda3/envs/oml/lib/python3.9/site-packages/pyeer/eer_stats.py:219: UserWarning: It is possible that you had set the wrong score type. Please consider reviewing if you are using dissimilarity or similarity scores\n",
      "  warn(\"It is possible that you had set the wrong score\"\n"
     ]
    },
    {
     "name": "stdout",
     "output_type": "stream",
     "text": [
      "genuine_scores:  1800 0.9999660235689874 impostor_scores 78843 0.9999653480012577\n",
      "Class 194: Linear SVM with Kernel Approximation EER = 0.4967\n",
      "genuine_scores:  1800 0.9999807928032377 impostor_scores 78843 0.9999808822693044\n",
      "Class 197: Linear SVM with Kernel Approximation EER = 0.5017\n"
     ]
    },
    {
     "name": "stderr",
     "output_type": "stream",
     "text": [
      "/home/fallahi/anaconda3/envs/oml/lib/python3.9/site-packages/pyeer/eer_stats.py:219: UserWarning: It is possible that you had set the wrong score type. Please consider reviewing if you are using dissimilarity or similarity scores\n",
      "  warn(\"It is possible that you had set the wrong score\"\n"
     ]
    },
    {
     "name": "stdout",
     "output_type": "stream",
     "text": [
      "genuine_scores:  1800 0.9999691710103249 impostor_scores 78843 0.9999693731326006\n",
      "Class 199: Linear SVM with Kernel Approximation EER = 0.5056\n"
     ]
    },
    {
     "name": "stderr",
     "output_type": "stream",
     "text": [
      "/home/fallahi/anaconda3/envs/oml/lib/python3.9/site-packages/pyeer/eer_stats.py:219: UserWarning: It is possible that you had set the wrong score type. Please consider reviewing if you are using dissimilarity or similarity scores\n",
      "  warn(\"It is possible that you had set the wrong score\"\n"
     ]
    },
    {
     "name": "stdout",
     "output_type": "stream",
     "text": [
      "genuine_scores:  1800 0.9999743157224437 impostor_scores 78843 0.9999743375723626\n",
      "Class 201: Linear SVM with Kernel Approximation EER = 0.5062\n"
     ]
    },
    {
     "name": "stderr",
     "output_type": "stream",
     "text": [
      "/home/fallahi/anaconda3/envs/oml/lib/python3.9/site-packages/pyeer/eer_stats.py:219: UserWarning: It is possible that you had set the wrong score type. Please consider reviewing if you are using dissimilarity or similarity scores\n",
      "  warn(\"It is possible that you had set the wrong score\"\n"
     ]
    },
    {
     "name": "stdout",
     "output_type": "stream",
     "text": [
      "genuine_scores:  500 0.9999678436395115 impostor_scores 80143 0.9999683961461908\n",
      "Class 203: Linear SVM with Kernel Approximation EER = 0.5100\n"
     ]
    },
    {
     "name": "stderr",
     "output_type": "stream",
     "text": [
      "/home/fallahi/anaconda3/envs/oml/lib/python3.9/site-packages/pyeer/eer_stats.py:219: UserWarning: It is possible that you had set the wrong score type. Please consider reviewing if you are using dissimilarity or similarity scores\n",
      "  warn(\"It is possible that you had set the wrong score\"\n"
     ]
    },
    {
     "name": "stdout",
     "output_type": "stream",
     "text": [
      "genuine_scores:  500 0.9999727771688538 impostor_scores 80143 0.9999732056439846\n",
      "Class 206: Linear SVM with Kernel Approximation EER = 0.5102\n"
     ]
    },
    {
     "name": "stderr",
     "output_type": "stream",
     "text": [
      "/home/fallahi/anaconda3/envs/oml/lib/python3.9/site-packages/pyeer/eer_stats.py:219: UserWarning: It is possible that you had set the wrong score type. Please consider reviewing if you are using dissimilarity or similarity scores\n",
      "  warn(\"It is possible that you had set the wrong score\"\n"
     ]
    },
    {
     "name": "stdout",
     "output_type": "stream",
     "text": [
      "genuine_scores:  4000 0.9999662077136771 impostor_scores 76643 0.9999665567292462\n",
      "Class 207: Linear SVM with Kernel Approximation EER = 0.5040\n"
     ]
    },
    {
     "name": "stderr",
     "output_type": "stream",
     "text": [
      "/home/fallahi/anaconda3/envs/oml/lib/python3.9/site-packages/pyeer/eer_stats.py:219: UserWarning: It is possible that you had set the wrong score type. Please consider reviewing if you are using dissimilarity or similarity scores\n",
      "  warn(\"It is possible that you had set the wrong score\"\n"
     ]
    },
    {
     "name": "stdout",
     "output_type": "stream",
     "text": [
      "genuine_scores:  1679 0.9999740209879898 impostor_scores 78964 0.9999740878425722\n",
      "Class 214: Linear SVM with Kernel Approximation EER = 0.4981\n"
     ]
    },
    {
     "name": "stderr",
     "output_type": "stream",
     "text": [
      "/home/fallahi/anaconda3/envs/oml/lib/python3.9/site-packages/pyeer/eer_stats.py:219: UserWarning: It is possible that you had set the wrong score type. Please consider reviewing if you are using dissimilarity or similarity scores\n",
      "  warn(\"It is possible that you had set the wrong score\"\n"
     ]
    },
    {
     "name": "stdout",
     "output_type": "stream",
     "text": [
      "genuine_scores:  464 0.9999770093328393 impostor_scores 80179 0.9999767589074804\n",
      "Class 219: Linear SVM with Kernel Approximation EER = 0.4978\n",
      "genuine_scores:  500 0.9999837187724614 impostor_scores 80143 0.9999832406042459\n",
      "Class 230: Linear SVM with Kernel Approximation EER = 0.4866\n",
      "genuine_scores:  4100 0.9999661212666549 impostor_scores 76543 0.9999657828899796\n",
      "Class 236: Linear SVM with Kernel Approximation EER = 0.4929\n",
      "genuine_scores:  500 0.9999850423502729 impostor_scores 80143 0.9999857197663155\n",
      "Class 245: Linear SVM with Kernel Approximation EER = 0.5060\n"
     ]
    },
    {
     "name": "stderr",
     "output_type": "stream",
     "text": [
      "/home/fallahi/anaconda3/envs/oml/lib/python3.9/site-packages/pyeer/eer_stats.py:219: UserWarning: It is possible that you had set the wrong score type. Please consider reviewing if you are using dissimilarity or similarity scores\n",
      "  warn(\"It is possible that you had set the wrong score\"\n"
     ]
    },
    {
     "name": "stdout",
     "output_type": "stream",
     "text": [
      "genuine_scores:  4000 0.9999667583288101 impostor_scores 76643 0.9999667167965284\n",
      "Class 250: Linear SVM with Kernel Approximation EER = 0.5050\n"
     ]
    },
    {
     "name": "stderr",
     "output_type": "stream",
     "text": [
      "/home/fallahi/anaconda3/envs/oml/lib/python3.9/site-packages/pyeer/eer_stats.py:219: UserWarning: It is possible that you had set the wrong score type. Please consider reviewing if you are using dissimilarity or similarity scores\n",
      "  warn(\"It is possible that you had set the wrong score\"\n"
     ]
    },
    {
     "name": "stdout",
     "output_type": "stream",
     "text": [
      "genuine_scores:  500 0.999967050518532 impostor_scores 80143 0.9999679832643925\n",
      "Class 257: Linear SVM with Kernel Approximation EER = 0.5200\n"
     ]
    },
    {
     "name": "stderr",
     "output_type": "stream",
     "text": [
      "/home/fallahi/anaconda3/envs/oml/lib/python3.9/site-packages/pyeer/eer_stats.py:219: UserWarning: It is possible that you had set the wrong score type. Please consider reviewing if you are using dissimilarity or similarity scores\n",
      "  warn(\"It is possible that you had set the wrong score\"\n"
     ]
    },
    {
     "name": "stdout",
     "output_type": "stream",
     "text": [
      "genuine_scores:  4800 0.9999804489023495 impostor_scores 75843 0.9999805501971786\n",
      "Class 260: Linear SVM with Kernel Approximation EER = 0.5037\n"
     ]
    },
    {
     "name": "stderr",
     "output_type": "stream",
     "text": [
      "/home/fallahi/anaconda3/envs/oml/lib/python3.9/site-packages/pyeer/eer_stats.py:219: UserWarning: It is possible that you had set the wrong score type. Please consider reviewing if you are using dissimilarity or similarity scores\n",
      "  warn(\"It is possible that you had set the wrong score\"\n"
     ]
    },
    {
     "name": "stdout",
     "output_type": "stream",
     "text": [
      "genuine_scores:  900 0.9999786421659538 impostor_scores 79743 0.999978536598518\n",
      "Class 261: Linear SVM with Kernel Approximation EER = 0.4967\n",
      "genuine_scores:  500 0.999976954118188 impostor_scores 80143 0.9999773709342277\n",
      "Class 262: Linear SVM with Kernel Approximation EER = 0.5040\n"
     ]
    },
    {
     "name": "stderr",
     "output_type": "stream",
     "text": [
      "/home/fallahi/anaconda3/envs/oml/lib/python3.9/site-packages/pyeer/eer_stats.py:219: UserWarning: It is possible that you had set the wrong score type. Please consider reviewing if you are using dissimilarity or similarity scores\n",
      "  warn(\"It is possible that you had set the wrong score\"\n"
     ]
    },
    {
     "name": "stdout",
     "output_type": "stream",
     "text": [
      "genuine_scores:  3900 0.999981784417928 impostor_scores 76743 0.9999816736221775\n",
      "Class 265: Linear SVM with Kernel Approximation EER = 0.5000\n",
      "genuine_scores:  1800 0.999969916202675 impostor_scores 78843 0.9999699202842608\n",
      "Class 268: Linear SVM with Kernel Approximation EER = 0.4990\n",
      "genuine_scores:  1800 0.9999704113384654 impostor_scores 78843 0.999970172841966\n",
      "Class 270: Linear SVM with Kernel Approximation EER = 0.5029\n",
      "genuine_scores:  1800 0.999975557401747 impostor_scores 78843 0.9999755559246587\n",
      "Class 281: Linear SVM with Kernel Approximation EER = 0.4979\n",
      "genuine_scores:  1800 0.9999691077895708 impostor_scores 78843 0.999969062932727\n",
      "Class 291: Linear SVM with Kernel Approximation EER = 0.4957\n",
      "genuine_scores:  2200 0.9999744977166021 impostor_scores 78443 0.9999745635996795\n",
      "Class 296: Linear SVM with Kernel Approximation EER = 0.4933\n",
      "genuine_scores:  2100 0.9999804580470724 impostor_scores 78543 0.9999804856922864\n",
      "Class 299: Linear SVM with Kernel Approximation EER = 0.5049\n"
     ]
    },
    {
     "name": "stderr",
     "output_type": "stream",
     "text": [
      "/home/fallahi/anaconda3/envs/oml/lib/python3.9/site-packages/pyeer/eer_stats.py:219: UserWarning: It is possible that you had set the wrong score type. Please consider reviewing if you are using dissimilarity or similarity scores\n",
      "  warn(\"It is possible that you had set the wrong score\"\n"
     ]
    },
    {
     "name": "stdout",
     "output_type": "stream",
     "text": [
      "genuine_scores:  2000 0.999983798511871 impostor_scores 78643 0.9999841059367668\n",
      "Class 303: Linear SVM with Kernel Approximation EER = 0.5037\n"
     ]
    },
    {
     "name": "stderr",
     "output_type": "stream",
     "text": [
      "/home/fallahi/anaconda3/envs/oml/lib/python3.9/site-packages/pyeer/eer_stats.py:219: UserWarning: It is possible that you had set the wrong score type. Please consider reviewing if you are using dissimilarity or similarity scores\n",
      "  warn(\"It is possible that you had set the wrong score\"\n"
     ]
    },
    {
     "name": "stdout",
     "output_type": "stream",
     "text": [
      "genuine_scores:  2200 0.9999812589081175 impostor_scores 78443 0.9999809325302116\n",
      "Class 306: Linear SVM with Kernel Approximation EER = 0.4914\n",
      "genuine_scores:  500 0.9999720006384888 impostor_scores 80143 0.9999723791806664\n",
      "Class 314: Linear SVM with Kernel Approximation EER = 0.5040\n"
     ]
    },
    {
     "name": "stderr",
     "output_type": "stream",
     "text": [
      "/home/fallahi/anaconda3/envs/oml/lib/python3.9/site-packages/pyeer/eer_stats.py:219: UserWarning: It is possible that you had set the wrong score type. Please consider reviewing if you are using dissimilarity or similarity scores\n",
      "  warn(\"It is possible that you had set the wrong score\"\n"
     ]
    },
    {
     "name": "stdout",
     "output_type": "stream",
     "text": [
      "genuine_scores:  2000 0.99998122234064 impostor_scores 78643 0.9999812872384221\n",
      "Class 322: Linear SVM with Kernel Approximation EER = 0.5000\n"
     ]
    },
    {
     "name": "stderr",
     "output_type": "stream",
     "text": [
      "/home/fallahi/anaconda3/envs/oml/lib/python3.9/site-packages/pyeer/eer_stats.py:219: UserWarning: It is possible that you had set the wrong score type. Please consider reviewing if you are using dissimilarity or similarity scores\n",
      "  warn(\"It is possible that you had set the wrong score\"\n"
     ]
    },
    {
     "name": "stdout",
     "output_type": "stream",
     "text": [
      "genuine_scores:  2100 0.9999491340829778 impostor_scores 78543 0.9999486083647057\n",
      "Class 325: Linear SVM with Kernel Approximation EER = 0.4919\n",
      "genuine_scores:  2200 0.999968012262724 impostor_scores 78443 0.9999685650102047\n",
      "Class 342: Linear SVM with Kernel Approximation EER = 0.5061\n"
     ]
    },
    {
     "name": "stderr",
     "output_type": "stream",
     "text": [
      "/home/fallahi/anaconda3/envs/oml/lib/python3.9/site-packages/pyeer/eer_stats.py:219: UserWarning: It is possible that you had set the wrong score type. Please consider reviewing if you are using dissimilarity or similarity scores\n",
      "  warn(\"It is possible that you had set the wrong score\"\n"
     ]
    },
    {
     "name": "stdout",
     "output_type": "stream",
     "text": [
      "genuine_scores:  2200 0.9999799335654246 impostor_scores 78443 0.9999798179958489\n",
      "Class 348: Linear SVM with Kernel Approximation EER = 0.4965\n",
      "genuine_scores:  2100 0.9999658566259638 impostor_scores 78543 0.9999655734814734\n",
      "Class 357: Linear SVM with Kernel Approximation EER = 0.5000\n",
      "genuine_scores:  2100 0.9999762825249718 impostor_scores 78543 0.9999762942528102\n",
      "Class 364: Linear SVM with Kernel Approximation EER = 0.4945\n",
      "genuine_scores:  1900 0.9999771312811617 impostor_scores 78743 0.9999768847307783\n",
      "Class 374: Linear SVM with Kernel Approximation EER = 0.4958\n",
      "genuine_scores:  800 0.9999655687171944 impostor_scores 79843 0.9999667248495431\n",
      "Class 407: Linear SVM with Kernel Approximation EER = 0.5125\n"
     ]
    },
    {
     "name": "stderr",
     "output_type": "stream",
     "text": [
      "/home/fallahi/anaconda3/envs/oml/lib/python3.9/site-packages/pyeer/eer_stats.py:219: UserWarning: It is possible that you had set the wrong score type. Please consider reviewing if you are using dissimilarity or similarity scores\n",
      "  warn(\"It is possible that you had set the wrong score\"\n"
     ]
    },
    {
     "name": "stdout",
     "output_type": "stream",
     "text": [
      "genuine_scores:  800 0.9999785271411136 impostor_scores 79843 0.9999781716989437\n",
      "Class 414: Linear SVM with Kernel Approximation EER = 0.4877\n",
      "genuine_scores:  800 0.9999575365311449 impostor_scores 79843 0.9999578200352951\n",
      "Class 415: Linear SVM with Kernel Approximation EER = 0.4912\n",
      "genuine_scores:  800 0.999969823963891 impostor_scores 79843 0.9999701541989506\n",
      "Class 418: Linear SVM with Kernel Approximation EER = 0.5012\n"
     ]
    },
    {
     "name": "stderr",
     "output_type": "stream",
     "text": [
      "/home/fallahi/anaconda3/envs/oml/lib/python3.9/site-packages/pyeer/eer_stats.py:219: UserWarning: It is possible that you had set the wrong score type. Please consider reviewing if you are using dissimilarity or similarity scores\n",
      "  warn(\"It is possible that you had set the wrong score\"\n"
     ]
    },
    {
     "name": "stdout",
     "output_type": "stream",
     "text": [
      "genuine_scores:  800 0.9999860269655173 impostor_scores 79843 0.99998585637507\n",
      "Class 419: Linear SVM with Kernel Approximation EER = 0.5025\n",
      "genuine_scores:  700 0.9999678823073912 impostor_scores 79943 0.9999674800934784\n",
      "Class 422: Linear SVM with Kernel Approximation EER = 0.5032\n",
      "genuine_scores:  700 0.9999742404203166 impostor_scores 79943 0.9999734012618763\n",
      "Class 436: Linear SVM with Kernel Approximation EER = 0.4907\n",
      "Final Average EER RandomForest: 50.0484\n",
      "Final EER Standard Deviation RandomForest: 0.8503\n",
      "$50.05 \\pm 0.85$\n"
     ]
    },
    {
     "data": {
      "text/plain": [
       "{'RandomForest': {'mean': 50.04838561094217, 'std': 0.8502518348559862}}"
      ]
     },
     "execution_count": 11,
     "metadata": {},
     "output_type": "execute_result"
    }
   ],
   "source": [
    "# Test your pipeline with synthetic data\n",
    "\n",
    "\n",
    "\n",
    "resutls = classifiers_learn(\n",
    "    x_test_e, y_test_e, x_test_v, y_test_v, None, x_test_n\n",
    ")\n",
    "# Print results\n",
    "#print(\"EER:\", EERf(resutls))\n",
    "\n",
    "calculate_mean_std(resutls)"
   ]
  },
  {
   "cell_type": "code",
   "execution_count": null,
   "id": "06495379-d922-4cf3-81db-b1805ef9e493",
   "metadata": {},
   "outputs": [],
   "source": []
  },
  {
   "cell_type": "code",
   "execution_count": null,
   "id": "7efa5010-fe1d-4a0a-819e-9806f5eed48b",
   "metadata": {},
   "outputs": [],
   "source": []
  }
 ],
 "metadata": {
  "kernelspec": {
   "display_name": "oml",
   "language": "python",
   "name": "oml"
  },
  "language_info": {
   "codemirror_mode": {
    "name": "ipython",
    "version": 3
   },
   "file_extension": ".py",
   "mimetype": "text/x-python",
   "name": "python",
   "nbconvert_exporter": "python",
   "pygments_lexer": "ipython3",
   "version": "3.9.19"
  }
 },
 "nbformat": 4,
 "nbformat_minor": 5
}
