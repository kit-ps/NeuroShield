{
 "cells": [
  {
   "cell_type": "code",
   "execution_count": 1,
   "id": "76a9f17b-bb53-4ae6-a497-ce47c65659c0",
   "metadata": {},
   "outputs": [
    {
     "name": "stdout",
     "output_type": "stream",
     "text": [
      "Subject 70, Number of unique sessions: 19\n",
      "Subject 86, Number of unique sessions: 19\n",
      "Subject 96, Number of unique sessions: 18\n",
      "Subject 125, Number of unique sessions: 19\n",
      "Subject 129, Number of unique sessions: 5\n",
      "Subject 167, Number of unique sessions: 2\n",
      "Subject 174, Number of unique sessions: 19\n",
      "Subject 175, Number of unique sessions: 6\n",
      "Subject 183, Number of unique sessions: 6\n",
      "Subject 194, Number of unique sessions: 19\n",
      "Subject 197, Number of unique sessions: 19\n",
      "Subject 199, Number of unique sessions: 19\n",
      "Subject 201, Number of unique sessions: 19\n",
      "Subject 203, Number of unique sessions: 6\n",
      "Subject 206, Number of unique sessions: 6\n",
      "Subject 207, Number of unique sessions: 41\n",
      "Subject 214, Number of unique sessions: 18\n",
      "Subject 219, Number of unique sessions: 5\n",
      "Subject 230, Number of unique sessions: 6\n",
      "Subject 236, Number of unique sessions: 42\n",
      "Subject 245, Number of unique sessions: 6\n",
      "Subject 250, Number of unique sessions: 41\n",
      "Subject 257, Number of unique sessions: 6\n",
      "Subject 260, Number of unique sessions: 49\n",
      "Subject 261, Number of unique sessions: 10\n",
      "Subject 262, Number of unique sessions: 6\n",
      "Subject 265, Number of unique sessions: 40\n",
      "Subject 268, Number of unique sessions: 19\n",
      "Subject 270, Number of unique sessions: 19\n",
      "Subject 281, Number of unique sessions: 19\n",
      "Subject 291, Number of unique sessions: 19\n",
      "Subject 296, Number of unique sessions: 23\n",
      "Subject 299, Number of unique sessions: 22\n",
      "Subject 303, Number of unique sessions: 21\n",
      "Subject 306, Number of unique sessions: 23\n",
      "Subject 314, Number of unique sessions: 6\n",
      "Subject 322, Number of unique sessions: 21\n",
      "Subject 325, Number of unique sessions: 22\n",
      "Subject 342, Number of unique sessions: 23\n",
      "Subject 348, Number of unique sessions: 23\n",
      "Subject 357, Number of unique sessions: 22\n",
      "Subject 364, Number of unique sessions: 22\n",
      "Subject 374, Number of unique sessions: 20\n",
      "Subject 407, Number of unique sessions: 9\n",
      "Subject 414, Number of unique sessions: 9\n",
      "Subject 415, Number of unique sessions: 9\n",
      "Subject 418, Number of unique sessions: 9\n",
      "Subject 419, Number of unique sessions: 9\n",
      "Subject 422, Number of unique sessions: 8\n",
      "Subject 436, Number of unique sessions: 8\n"
     ]
    }
   ],
   "source": [
    "# import h5py\n",
    "import torch\n",
    "import numpy as np\n",
    "from torch.utils.data import Dataset, DataLoader, Subset\n",
    "import h5py\n",
    "import numpy as np\n",
    "\n",
    "import h5py\n",
    "\n",
    "import h5py\n",
    "import numpy as np\n",
    "\n",
    "# Load test data from test_raw.h5\n",
    "with h5py.File(\"./data/test_raw.h5\", \"r\") as f_test:\n",
    "    X_test = f_test['data'][:]\n",
    "    Y_test = f_test['labels'][:]\n",
    "    S_test = f_test['sessions'][:]\n",
    "    #H_test = f_test['hardwares'][:]  # Load the 'hardwares' dataset as h_test\n",
    "\n",
    "\n",
    "# Now, X_combined, Y_combined, S_combined, and h_combined contain the merged data\n",
    "\n",
    "\n",
    "# Now, X_combined, Y_combined, and S_combined contain the merged data\n",
    "\n",
    "\n",
    "# Shuffle the data\n",
    "indices = np.arange(X_test.shape[0])\n",
    "np.random.shuffle(indices)\n",
    "\n",
    "# Reorder the arrays according to the shuffled indices\n",
    "x_test = X_test[indices]\n",
    "y_test = Y_test[indices]\n",
    "s_test = S_test[indices]\n",
    "#h_test = H_test[indices]\n",
    "\n",
    "\n",
    "# Find unique subjects\n",
    "unique_subjects = np.unique(y_test)\n",
    "\n",
    "# Initialize lists to hold the data for x_test_e and x_test_v\n",
    "x_test_e_list = []\n",
    "y_test_e_list = []\n",
    "s_test_e_list = []\n",
    "h_test_e_list = []\n",
    "\n",
    "x_test_v_list = []\n",
    "y_test_v_list = []\n",
    "s_test_v_list = []\n",
    "h_test_v_list = []\n",
    "\n",
    "# Assign the minimum session for each subject to x_test_e and the rest to x_test_v\n",
    "for subject in unique_subjects:\n",
    "    subject_indices = np.where(y_test == subject)[0]\n",
    "    subject_sessions = s_test[subject_indices]\n",
    "    \n",
    "    # Skip subjects with fewer than two unique sessions\n",
    "    if len(np.unique(subject_sessions)) < 2:\n",
    "        continue\n",
    "\n",
    "    print(f\"Subject {subject}, Number of unique sessions: {len(np.unique(subject_sessions))}\")\n",
    "    \n",
    "    # Assign the minimum session to the evaluation set (x_test_e)\n",
    "    min_session = np.min(subject_sessions)\n",
    "    \n",
    "    # Append data to the evaluation set (min session)\n",
    "    x_test_e_list.extend(x_test[subject_indices][subject_sessions == min_session])\n",
    "    y_test_e_list.extend(y_test[subject_indices][subject_sessions == min_session])\n",
    "    s_test_e_list.extend(s_test[subject_indices][subject_sessions == min_session])\n",
    "    #h_test_e_list.extend(h_test[subject_indices][subject_sessions == min_session])\n",
    "\n",
    "    # Append remaining sessions to the validation set (x_test_v)\n",
    "    x_test_v_list.extend(x_test[subject_indices][subject_sessions != min_session])\n",
    "    y_test_v_list.extend(y_test[subject_indices][subject_sessions != min_session])\n",
    "    s_test_v_list.extend(s_test[subject_indices][subject_sessions != min_session])\n",
    "    #h_test_v_list.extend(h_test[subject_indices][subject_sessions != min_session])\n",
    "\n",
    "# Shuffle and convert lists back to numpy arrays for x_test_e\n",
    "indices_e = np.arange(len(x_test_e_list))\n",
    "np.random.shuffle(indices_e)\n",
    "\n",
    "x_test_e = np.array(x_test_e_list)[indices_e]\n",
    "y_test_e = np.array(y_test_e_list)[indices_e]\n",
    "s_test_e = np.array(s_test_e_list)[indices_e]\n",
    "#h_test_e = np.array(h_test_v_list)[indices_e]\n",
    "\n",
    "# Shuffle and convert lists back to numpy arrays for x_test_v\n",
    "indices_v = np.arange(len(x_test_v_list))\n",
    "np.random.shuffle(indices_v)\n",
    "\n",
    "x_test_v = np.array(x_test_v_list)[indices_v]\n",
    "y_test_v = np.array(y_test_v_list)[indices_v]\n",
    "s_test_v = np.array(s_test_v_list)[indices_v]\n",
    "#h_test_v = np.array(h_test_v_list)[indices_v]\n",
    "# Optional: Save the new test evaluation and validation sets to npy files (if needed)\n"
   ]
  },
  {
   "cell_type": "code",
   "execution_count": 2,
   "id": "61963262-8095-48c1-bcb2-c519bbc38d1f",
   "metadata": {},
   "outputs": [],
   "source": [
    "with h5py.File(\"./data/neg_raw.h5\", \"r\") as f:\n",
    "    x_neg_r = f['data'][:]\n",
    "    y_neg = f['labels'][:]\n",
    "    s_neg = f['sessions'][:]"
   ]
  },
  {
   "cell_type": "code",
   "execution_count": 3,
   "id": "f6e2a885-59de-48d7-9019-70552c09cbd2",
   "metadata": {},
   "outputs": [],
   "source": [
    "from sklearn.ensemble import RandomForestClassifier\n",
    "from sklearn.svm import SVC\n",
    "from collections import defaultdict\n",
    "import numpy as np\n",
    "from sklearn.metrics.pairwise import euclidean_distances as ed\n",
    "from sklearn.metrics.pairwise import cosine_distances as cd\n",
    "from collections import defaultdict\n",
    "from pyeer.eer_info import get_eer_stats\n",
    "from sklearn.metrics.pairwise import manhattan_distances as md\n",
    "from sklearn.metrics.pairwise import cosine_similarity as cs\n",
    "\n",
    "\n",
    "def EERf(resutls):\n",
    "    resutls= np.array(resutls)\n",
    "    genuine  = resutls[resutls[:, 1] == 1][:, 0]\n",
    "    impostor = resutls[resutls[:, 1] == 0][:, 0]\n",
    "    stats_a = get_eer_stats(genuine, impostor)\n",
    "    return(stats_a.eer,stats_a.fmr100)\n",
    "\n",
    "def calculate_and_print_averages(y_train, resutls3):\n",
    "    u, counts = np.unique(y_train, return_counts=True)\n",
    "    eer_values = []\n",
    "    ii = 0\n",
    "\n",
    "    for i in resutls3.keys():\n",
    "        re = EERf(resutls3[i])\n",
    "        eer = re[0]\n",
    "        print(f\"{i}: EER = {re[0]:.4f}, FMR100 = {re[1]:.4f}, Count = {counts[ii]}\")\n",
    "        eer_values.append(eer)\n",
    "        ii += 1\n",
    "\n",
    "    average_eer = np.mean(eer_values) * 100\n",
    "    std_eer = np.std(eer_values) * 100\n",
    "    \n",
    "    print(f\"Final Average EER: {average_eer:.4f}\")\n",
    "    print(f\"Final EER Standard Deviation: {std_eer:.4f}\")\n",
    "    print(f\"${average_eer:.2f} \\\\pm {std_eer:.2f}$\")\n",
    "\n",
    "import torch.nn.functional as F\n",
    "\n",
    "\n",
    "def calculate_similarity_scores_two(enrollment_embeddings, y_enrollment, verification_embeddings, y_verification,distance):\n",
    "    similarity_results = []\n",
    "    similarity_results_by_class = []\n",
    "    similarity_results_by_class_dict = defaultdict(list)\n",
    "    unique_classes = np.unique(y_enrollment)\n",
    "    class_indices = [np.where(y_enrollment == cls)[0] for cls in unique_classes]\n",
    "    print(verification_embeddings.shape, enrollment_embeddings.shape)\n",
    "    if distance == \"cd\":\n",
    "        similarity_matrix = -1 * cd(verification_embeddings, enrollment_embeddings)\n",
    "    elif distance == \"ed\":\n",
    "        similarity_matrix = -1 * ed(verification_embeddings, enrollment_embeddings)\n",
    "\n",
    "    for i in range(similarity_matrix.shape[0]):\n",
    "        current_class = y_verification[i]\n",
    "        predicted_scores = similarity_matrix[i]\n",
    "        same_class_indices = class_indices[np.where(unique_classes == current_class)[0][0]]\n",
    "\n",
    "        for cls in unique_classes:\n",
    "            same_class_indices = class_indices[np.where(unique_classes == cls)[0][0]]\n",
    "            max_score = sum(sorted(predicted_scores[same_class_indices], reverse=True)[:10]) / 10\n",
    "            if current_class == cls:\n",
    "                similarity_results_by_class.append([max_score, 1, current_class, cls, i])\n",
    "                similarity_results_by_class_dict[cls].append([max_score, 1, current_class, cls, i, cls])\n",
    "            else:\n",
    "                similarity_results_by_class.append([max_score, 0, current_class, cls, i])\n",
    "                similarity_results_by_class_dict[cls].append([max_score, 0, current_class, cls, i, cls])\n",
    "\n",
    "    return similarity_results_by_class, similarity_results_by_class_dict\n",
    "\n",
    "def assessment_model_data_two(enrollment_data, ye, verification_data, yv, e_network, distance):\n",
    "    x_enrollment, y_enrollment = enrollment_data, ye\n",
    "    x_verification, y_verification = verification_data, yv\n",
    "    enrollment_embeddings = compute_embedding_batch_two(x_enrollment, e_network)\n",
    "    verification_embeddings = compute_embedding_batch_two(x_verification, e_network)\n",
    "    similarity_results_by_class, similarity_results_by_class_dict = calculate_similarity_scores_two(\n",
    "        enrollment_embeddings, y_enrollment, verification_embeddings, y_verification,distance\n",
    "    )\n",
    "    return similarity_results_by_class, similarity_results_by_class_dict\n",
    "\n",
    "def compute_embedding_batch_two(x_test_batch, embedding_network=None):\n",
    "    print(x_test_batch.shape)\n",
    "    return x_test_batch"
   ]
  },
  {
   "cell_type": "code",
   "execution_count": 4,
   "id": "e1538026-413f-4589-a255-9e3c3fefd1a2",
   "metadata": {},
   "outputs": [
    {
     "name": "stdout",
     "output_type": "stream",
     "text": [
      "(5000, 46500)\n",
      "(80643, 46500)\n",
      "(80643, 46500) (5000, 46500)\n"
     ]
    },
    {
     "name": "stderr",
     "output_type": "stream",
     "text": [
      "/home/fallahi/anaconda3/envs/oml/lib/python3.9/site-packages/pyeer/eer_stats.py:219: UserWarning: It is possible that you had set the wrong score type. Please consider reviewing if you are using dissimilarity or similarity scores\n",
      "  warn(\"It is possible that you had set the wrong score\"\n"
     ]
    },
    {
     "name": "stdout",
     "output_type": "stream",
     "text": [
      "70: EER = 0.5233, FMR100 = 0.9922, Count = 100\n",
      "86: EER = 0.4622, FMR100 = 0.9978, Count = 100\n",
      "96: EER = 0.5695, FMR100 = 0.9994, Count = 100\n",
      "125: EER = 0.3333, FMR100 = 0.9672, Count = 100\n",
      "129: EER = 0.4500, FMR100 = 1.0000, Count = 100\n",
      "167: EER = 0.7524, FMR100 = 1.0000, Count = 100\n",
      "174: EER = 0.5596, FMR100 = 0.9967, Count = 100\n",
      "175: EER = 0.9023, FMR100 = 1.0000, Count = 100\n",
      "183: EER = 0.3760, FMR100 = 0.9200, Count = 100\n",
      "194: EER = 0.5933, FMR100 = 0.9994, Count = 100\n",
      "197: EER = 0.4717, FMR100 = 0.9883, Count = 100\n",
      "199: EER = 0.4079, FMR100 = 0.9922, Count = 100\n",
      "201: EER = 0.6261, FMR100 = 1.0000, Count = 100\n",
      "203: EER = 0.5920, FMR100 = 0.9980, Count = 100\n",
      "206: EER = 0.8500, FMR100 = 1.0000, Count = 100\n",
      "207: EER = 0.4626, FMR100 = 0.9992, Count = 100\n",
      "214: EER = 0.4318, FMR100 = 0.9595, Count = 100\n",
      "219: EER = 0.6207, FMR100 = 1.0000, Count = 100\n",
      "230: EER = 0.5348, FMR100 = 0.9340, Count = 100\n",
      "236: EER = 0.5716, FMR100 = 0.9998, Count = 100\n",
      "245: EER = 0.6360, FMR100 = 1.0000, Count = 100\n",
      "250: EER = 0.5931, FMR100 = 0.9992, Count = 100\n",
      "257: EER = 0.4820, FMR100 = 0.9880, Count = 100\n",
      "260: EER = 0.4510, FMR100 = 0.9727, Count = 100\n",
      "261: EER = 0.4436, FMR100 = 0.9833, Count = 100\n",
      "262: EER = 0.4120, FMR100 = 0.9940, Count = 100\n",
      "265: EER = 0.3172, FMR100 = 0.8510, Count = 100\n",
      "268: EER = 0.5572, FMR100 = 0.9694, Count = 100\n",
      "270: EER = 0.3378, FMR100 = 0.9900, Count = 100\n",
      "281: EER = 0.3394, FMR100 = 0.8706, Count = 100\n",
      "291: EER = 0.5162, FMR100 = 0.9922, Count = 100\n",
      "296: EER = 0.5955, FMR100 = 1.0000, Count = 100\n",
      "299: EER = 0.4936, FMR100 = 0.9995, Count = 100\n",
      "303: EER = 0.6947, FMR100 = 1.0000, Count = 100\n",
      "306: EER = 0.2864, FMR100 = 0.8600, Count = 100\n",
      "314: EER = 0.5840, FMR100 = 1.0000, Count = 100\n",
      "322: EER = 0.6585, FMR100 = 0.9990, Count = 100\n",
      "325: EER = 0.3629, FMR100 = 0.9952, Count = 100\n",
      "342: EER = 0.4060, FMR100 = 0.9968, Count = 100\n",
      "348: EER = 0.5520, FMR100 = 0.9973, Count = 100\n",
      "357: EER = 0.4177, FMR100 = 0.9990, Count = 100\n",
      "364: EER = 0.4557, FMR100 = 1.0000, Count = 100\n",
      "374: EER = 0.3058, FMR100 = 0.9932, Count = 100\n",
      "407: EER = 0.7312, FMR100 = 1.0000, Count = 100\n",
      "414: EER = 0.4052, FMR100 = 0.9287, Count = 100\n",
      "415: EER = 0.3563, FMR100 = 0.9525, Count = 100\n",
      "418: EER = 0.5103, FMR100 = 1.0000, Count = 100\n",
      "419: EER = 0.5113, FMR100 = 0.9975, Count = 100\n",
      "422: EER = 0.3446, FMR100 = 0.9986, Count = 100\n",
      "436: EER = 0.3775, FMR100 = 0.9214, Count = 100\n",
      "Final Average EER: 50.4519\n",
      "Final EER Standard Deviation: 13.6118\n",
      "$50.45 \\pm 13.61$\n"
     ]
    }
   ],
   "source": [
    "#HEREAA\n",
    "\n",
    "# Generate a sequence of indices from 0 to the length of one of the arrays\n",
    "\n",
    "\n",
    "\n",
    "#, s_test_b\n",
    "resutls2,resutls3=assessment_model_data_two(x_test_e.reshape(x_test_e.shape[0], -1), y_test_e, x_test_v.reshape(x_test_v.shape[0], -1), y_test_v, None, distance = \"ed\")\n",
    "#print(\"simple\",EERf(resutls))\n",
    "calculate_and_print_averages(y_test_e, resutls3)"
   ]
  },
  {
   "cell_type": "code",
   "execution_count": 5,
   "id": "1a4d688e-28d5-4e53-bc83-f06b9eb30f2c",
   "metadata": {},
   "outputs": [
    {
     "name": "stdout",
     "output_type": "stream",
     "text": [
      "(5000, 46500)\n",
      "(80643, 46500)\n",
      "(80643, 46500) (5000, 46500)\n",
      "70: EER = 0.4557, FMR100 = 0.9833, Count = 100\n",
      "86: EER = 0.3545, FMR100 = 0.9206, Count = 100\n",
      "96: EER = 0.4841, FMR100 = 0.9871, Count = 100\n",
      "125: EER = 0.4667, FMR100 = 0.9939, Count = 100\n",
      "129: EER = 0.3808, FMR100 = 0.9700, Count = 100\n",
      "167: EER = 0.2800, FMR100 = 1.0000, Count = 100\n",
      "174: EER = 0.3961, FMR100 = 0.9150, Count = 100\n",
      "175: EER = 0.1880, FMR100 = 0.4960, Count = 100\n",
      "183: EER = 0.3660, FMR100 = 0.9160, Count = 100\n",
      "194: EER = 0.5478, FMR100 = 0.8356, Count = 100\n"
     ]
    },
    {
     "name": "stderr",
     "output_type": "stream",
     "text": [
      "/home/fallahi/anaconda3/envs/oml/lib/python3.9/site-packages/pyeer/eer_stats.py:219: UserWarning: It is possible that you had set the wrong score type. Please consider reviewing if you are using dissimilarity or similarity scores\n",
      "  warn(\"It is possible that you had set the wrong score\"\n"
     ]
    },
    {
     "name": "stdout",
     "output_type": "stream",
     "text": [
      "197: EER = 0.4661, FMR100 = 0.9794, Count = 100\n",
      "199: EER = 0.3517, FMR100 = 0.9683, Count = 100\n",
      "201: EER = 0.3996, FMR100 = 0.8461, Count = 100\n",
      "203: EER = 0.2100, FMR100 = 0.4280, Count = 100\n",
      "206: EER = 0.1646, FMR100 = 0.9120, Count = 100\n",
      "207: EER = 0.4662, FMR100 = 0.9712, Count = 100\n",
      "214: EER = 0.5217, FMR100 = 0.9881, Count = 100\n",
      "219: EER = 0.5022, FMR100 = 1.0000, Count = 100\n",
      "230: EER = 0.5305, FMR100 = 0.9920, Count = 100\n",
      "236: EER = 0.4786, FMR100 = 0.9632, Count = 100\n",
      "245: EER = 0.3180, FMR100 = 0.9320, Count = 100\n",
      "250: EER = 0.4901, FMR100 = 0.9875, Count = 100\n",
      "257: EER = 0.4920, FMR100 = 0.9840, Count = 100\n",
      "260: EER = 0.4381, FMR100 = 0.9958, Count = 100\n",
      "261: EER = 0.4736, FMR100 = 0.9856, Count = 100\n",
      "262: EER = 0.3880, FMR100 = 1.0000, Count = 100\n",
      "265: EER = 0.3513, FMR100 = 0.9436, Count = 100\n",
      "268: EER = 0.3739, FMR100 = 0.9639, Count = 100\n",
      "270: EER = 0.5780, FMR100 = 0.9800, Count = 100\n",
      "281: EER = 0.3696, FMR100 = 0.9772, Count = 100\n",
      "291: EER = 0.5344, FMR100 = 0.9739, Count = 100\n",
      "296: EER = 0.3968, FMR100 = 0.9468, Count = 100\n",
      "299: EER = 0.3443, FMR100 = 0.9581, Count = 100\n",
      "303: EER = 0.4291, FMR100 = 0.9985, Count = 100\n",
      "306: EER = 0.3277, FMR100 = 0.6850, Count = 100\n",
      "314: EER = 0.5020, FMR100 = 0.9980, Count = 100\n",
      "322: EER = 0.3302, FMR100 = 0.9640, Count = 100\n",
      "325: EER = 0.2396, FMR100 = 0.9695, Count = 100\n",
      "342: EER = 0.3650, FMR100 = 0.9786, Count = 100\n",
      "348: EER = 0.3093, FMR100 = 0.8809, Count = 100\n",
      "357: EER = 0.3895, FMR100 = 0.9929, Count = 100\n",
      "364: EER = 0.4114, FMR100 = 0.9838, Count = 100\n",
      "374: EER = 0.3642, FMR100 = 0.9853, Count = 100\n",
      "407: EER = 0.4551, FMR100 = 0.9525, Count = 100\n",
      "414: EER = 0.2952, FMR100 = 0.9838, Count = 100\n",
      "415: EER = 0.1412, FMR100 = 0.4988, Count = 100\n",
      "418: EER = 0.2465, FMR100 = 0.7700, Count = 100\n",
      "419: EER = 0.2718, FMR100 = 0.8525, Count = 100\n",
      "422: EER = 0.1729, FMR100 = 0.8643, Count = 100\n",
      "436: EER = 0.2257, FMR100 = 0.8157, Count = 100\n",
      "Final Average EER: 38.0711\n",
      "Final EER Standard Deviation: 10.7706\n",
      "$38.07 \\pm 10.77$\n"
     ]
    }
   ],
   "source": [
    "#HEREAA\n",
    "\n",
    "# Generate a sequence of indices from 0 to the length of one of the arrays\n",
    "\n",
    "\n",
    "\n",
    "#, s_test_b\n",
    "resutls2,resutls3=assessment_model_data_two(x_test_e.reshape(x_test_e.shape[0], -1), y_test_e, x_test_v.reshape(x_test_v.shape[0], -1), y_test_v, None, distance = \"cd\")\n",
    "#print(\"simple\",EERf(resutls))\n",
    "calculate_and_print_averages(y_test_e, resutls3)"
   ]
  },
  {
   "cell_type": "code",
   "execution_count": 6,
   "id": "19ae16de-2988-4abe-8eff-4b0917d08e00",
   "metadata": {},
   "outputs": [],
   "source": [
    "# Flatten each array from 3D to 2D\n",
    "x_test_e = x_test_e.reshape(x_test_e.shape[0], -1)\n",
    "x_test_v= x_test_v.reshape(x_test_v.shape[0], -1)\n",
    "x_test_n = x_neg_r.reshape(x_neg_r.shape[0], -1)"
   ]
  },
  {
   "cell_type": "code",
   "execution_count": 7,
   "id": "c33fcab2-383c-4615-b4db-4a5871447869",
   "metadata": {},
   "outputs": [],
   "source": [
    "from sklearn.ensemble import RandomForestClassifier\n",
    "from sklearn.metrics import roc_curve\n",
    "from sklearn.decomposition import PCA\n",
    "from sklearn.preprocessing import StandardScaler\n",
    "from sklearn.svm import SVC\n",
    "from sklearn.decomposition import IncrementalPCA\n",
    "from sklearn.pipeline import Pipeline\n",
    "from sklearn.utils import shuffle\n",
    "from sklearn.kernel_approximation import RBFSampler\n",
    "from sklearn.linear_model import SGDClassifier\n",
    "from sklearn.preprocessing import StandardScaler\n",
    "from sklearn.pipeline import Pipeline\n",
    "from sklearn.utils import shuffle\n",
    "\n",
    "\n",
    "def calculate_eer(y_true, y_scores):\n",
    "    \"\"\"\n",
    "    Calculate the Equal Error Rate (EER) and FMR100 using pyeer.\n",
    "    \"\"\"\n",
    "    # Separate genuine and impostor scores\n",
    "    genuine_scores = y_scores[y_true == 1]\n",
    "    impostor_scores = y_scores[y_true == 0]\n",
    "    #print(y_true, y_scores)\n",
    "\n",
    "    #print(genuine_scores, impostor_scores)\n",
    "    print(\"genuine_scores: \", len(genuine_scores), sum(genuine_scores)/len(genuine_scores), \"impostor_scores\", len(impostor_scores), sum(impostor_scores)/len(impostor_scores))\n",
    "    \n",
    "    # Use pyeer to compute EER stats\n",
    "    stats = get_eer_stats(genuine_scores, impostor_scores)\n",
    "    \n",
    "    return stats.eer\n",
    "\n",
    "def classifiers_learn(enrollment_data, ye, verification_data, yv, e_network, negative_raw):\n",
    "    \"\"\"\n",
    "    Learn classifiers per unique subject and evaluate using EER.\n",
    "    \"\"\"\n",
    "    x_enrollment, y_enrollment = enrollment_data, ye\n",
    "    x_verification, y_verification = verification_data, yv\n",
    "    \n",
    "    # Compute embeddings\n",
    "    enrollment_embeddings = compute_embedding_batch_two(x_enrollment, e_network)\n",
    "    verification_embeddings = compute_embedding_batch_two(x_verification, e_network)\n",
    "    negative_embeddings = compute_embedding_batch_two(negative_raw, e_network)\n",
    "    \n",
    "    unique_classes = np.unique(y_enrollment)\n",
    "    results = {}\n",
    "\n",
    "    print(\"Unique classes: \", unique_classes)\n",
    "\n",
    "    for cls in unique_classes:\n",
    "        # Prepare training data\n",
    "        positive_indices = np.where(y_enrollment == cls)[0]\n",
    "        negative_indices = np.arange(len(negative_embeddings))\n",
    "        \n",
    "        train_embeddings = np.concatenate([enrollment_embeddings[positive_indices], negative_embeddings])\n",
    "        train_labels = np.concatenate([np.ones(len(positive_indices)), np.zeros(len(negative_indices))])\n",
    "\n",
    "        # Prepare testing data\n",
    "        test_embeddings = verification_embeddings\n",
    "        test_labels =(y_verification == cls).astype(int)\n",
    "\n",
    "\n",
    "        # Initialize Incremental PCA\n",
    "        #pca = IncrementalPCA(n_components=50)  # Retain 80% of variance or specify a fixed number of components\n",
    "        \n",
    "\n",
    "        #batch_size = 5000  # Define batch size\n",
    "        #for i in range(0, train_embeddings.shape[0], batch_size):\n",
    "            #batch = train_embeddings[i:i + batch_size]\n",
    "            #pca.partial_fit(batch)  \n",
    "        #train_embeddings_reduced = pca.transform(train_embeddings)\n",
    "        #print(\"Reduced Training Shape:\", train_embeddings_reduced.shape)\n",
    "        #test_embeddings_reduced = pca.transform(test_embeddings)\n",
    "        #print(\"Reduced Test Shape:\", test_embeddings_reduced.shape)\n",
    "\n",
    "        # Train Random Forest model\n",
    "        #rf_model = RandomForestClassifier(random_state=42, class_weight='balanced', n_jobs=-1)\n",
    "        #rf_model.fit(train_embeddings, train_labels)\n",
    "        #rf_probabilities = rf_model.predict_proba(test_embeddings)[:, 1]  # Use probabilities for EER calculation\n",
    "\n",
    "        \n",
    "        pipeline = Pipeline([\n",
    "            ('scaler', StandardScaler()),\n",
    "            ('classifier', RandomForestClassifier(random_state=42, class_weight='balanced', n_jobs=20))\n",
    "            #('classifier', SVC(probability=True, random_state=42, class_weight='balanced'))\n",
    "            #('classifier', KNeighborsClassifier(n_neighbors=20, weights='distance'))\n",
    "        ])\n",
    "        #svm_model = SVC(probability=True, random_state=42, class_weight='balanced')\n",
    "        X, y = shuffle(train_embeddings, train_labels, random_state=42)\n",
    "        pipeline.fit(X, y)\n",
    "        probabilities = pipeline.predict_proba(test_embeddings)[:, 1]\n",
    "\n",
    "        # Calculate EER\n",
    "        rf_eer = calculate_eer(test_labels, probabilities)\n",
    "\n",
    "        print(f\"Class {cls}: RandomForest EER = {rf_eer:.4f}\")\n",
    "\n",
    "        results[cls] = {\n",
    "            'RandomForest': {'EER': rf_eer}\n",
    "        }\n",
    "\n",
    "    return results\n",
    "\n",
    "def calculate_mean_std(results):\n",
    "    \"\"\"\n",
    "    Calculate the mean and standard deviation of EER values for each model in the results dictionary.\n",
    "    \n",
    "    Args:\n",
    "        results (dict): A dictionary where keys are classes, and values are dictionaries containing model metrics.\n",
    "                        Example: {cls: {'RandomForest': {'EER': value}}}\n",
    "    \n",
    "    Returns:\n",
    "        dict: A dictionary containing mean and std for each model across all classes.\n",
    "    \"\"\"\n",
    "    # Extract EER values for each model\n",
    "    model_eer_values = {}\n",
    "    for cls, metrics in results.items():\n",
    "        for model, model_metrics in metrics.items():\n",
    "            if model not in model_eer_values:\n",
    "                model_eer_values[model] = []\n",
    "            model_eer_values[model].append(model_metrics['EER'])\n",
    "    \n",
    "    # Calculate mean and std\n",
    "    model_stats = {}\n",
    "    for model, eer_values in model_eer_values.items():\n",
    "        mean = np.mean(eer_values) * 100\n",
    "        std = np.std(eer_values) * 100\n",
    "        model_stats[model] = {'mean': mean, 'std': std}\n",
    "        print(f\"Final Average EER {model}: {mean:.4f}\")\n",
    "        print(f\"Final EER Standard Deviation {model}: {std:.4f}\")\n",
    "        print(f\"${mean:.2f} \\\\pm {std:.2f}$\") \n",
    "        \n",
    "   \n",
    "    return model_stats\n"
   ]
  },
  {
   "cell_type": "code",
   "execution_count": 8,
   "id": "4b537880-4112-4d0c-a71f-0415367b4bc8",
   "metadata": {},
   "outputs": [
    {
     "name": "stdout",
     "output_type": "stream",
     "text": [
      "(5000, 46500)\n",
      "(80643, 46500)\n",
      "(84408, 46500)\n",
      "Unique classes:  [ 70  86  96 125 129 167 174 175 183 194 197 199 201 203 206 207 214 219\n",
      " 230 236 245 250 257 260 261 262 265 268 270 281 291 296 299 303 306 314\n",
      " 322 325 342 348 357 364 374 407 414 415 418 419 422 436]\n",
      "genuine_scores:  1800 0.003483333333333311 impostor_scores 78843 0.0016820770391792635\n",
      "Class 70: RandomForest EER = 0.4595\n",
      "genuine_scores:  1800 0.03631111111111108 impostor_scores 78843 0.0010192407696308205\n",
      "Class 86: RandomForest EER = 0.2978\n",
      "genuine_scores:  1700 0.001058823529411765 impostor_scores 78943 0.000680997681871727\n",
      "Class 96: RandomForest EER = 0.4926\n",
      "genuine_scores:  1800 0.0031722222222222095 impostor_scores 78843 0.0006595385766650122\n",
      "Class 125: RandomForest EER = 0.4616\n",
      "genuine_scores:  400 0.0028000000000000013 impostor_scores 80243 0.0013490273294868172\n",
      "Class 129: RandomForest EER = 0.4497\n",
      "genuine_scores:  100 0.006000000000000003 impostor_scores 80543 0.0014125374023814317\n",
      "Class 167: RandomForest EER = 0.3243\n",
      "genuine_scores:  1800 0.00789444444444441 impostor_scores 78843 0.0012491914310719257\n",
      "Class 174: RandomForest EER = 0.4420\n",
      "genuine_scores:  500 0.035239999999999945 impostor_scores 80143 0.00043646981021424973\n",
      "Class 175: RandomForest EER = 0.1745\n",
      "genuine_scores:  500 0.01411999999999996 impostor_scores 80143 0.0005909436881574181\n",
      "Class 183: RandomForest EER = 0.3265\n",
      "genuine_scores:  1800 0.012227777777777785 impostor_scores 78843 0.0004047283842573358\n",
      "Class 194: RandomForest EER = 0.3918\n",
      "genuine_scores:  1800 0.0035777777777777652 impostor_scores 78843 0.0006906129903732652\n",
      "Class 197: RandomForest EER = 0.4593\n",
      "genuine_scores:  1800 0.015805555555555593 impostor_scores 78843 0.0009626726532476089\n",
      "Class 199: RandomForest EER = 0.3779\n",
      "genuine_scores:  1800 0.012444444444444465 impostor_scores 78843 0.001216341336580374\n",
      "Class 201: RandomForest EER = 0.4022\n",
      "genuine_scores:  500 0.08758000000000013 impostor_scores 80143 0.0016237225958599364\n",
      "Class 203: RandomForest EER = 0.1446\n",
      "genuine_scores:  500 0.01971999999999991 impostor_scores 80143 0.0015348813994984466\n",
      "Class 206: RandomForest EER = 0.1864\n",
      "genuine_scores:  4000 0.0009599999999999936 impostor_scores 76643 0.0010210978171522782\n",
      "Class 207: RandomForest EER = 0.4982\n",
      "genuine_scores:  1679 0.004752829064919575 impostor_scores 78964 0.0008811610354085446\n",
      "Class 214: RandomForest EER = 0.4499\n",
      "genuine_scores:  464 0.0016379310344827593 impostor_scores 80179 0.0024107309894111873\n",
      "Class 219: RandomForest EER = 0.4805\n",
      "genuine_scores:  500 0.003560000000000002 impostor_scores 80143 0.0007910859338931526\n",
      "Class 230: RandomForest EER = 0.4479\n",
      "genuine_scores:  4100 0.003326829268292643 impostor_scores 76543 0.001492102478345659\n",
      "Class 236: RandomForest EER = 0.4589\n",
      "genuine_scores:  500 0.010399999999999953 impostor_scores 80143 0.0018046491895737232\n",
      "Class 245: RandomForest EER = 0.3008\n",
      "genuine_scores:  4000 0.0021899999999999763 impostor_scores 76643 0.0013312370340410344\n",
      "Class 250: RandomForest EER = 0.4663\n",
      "genuine_scores:  500 0.0006600000000000001 impostor_scores 80143 0.0007326903160600394\n",
      "Class 257: RandomForest EER = 0.4931\n",
      "genuine_scores:  4800 0.004325000000000007 impostor_scores 75843 0.0011579183312896873\n",
      "Class 260: RandomForest EER = 0.4472\n",
      "genuine_scores:  900 0.004222222222222215 impostor_scores 79743 0.0011725167099307118\n",
      "Class 261: RandomForest EER = 0.4667\n",
      "genuine_scores:  500 0.023219999999999935 impostor_scores 80143 0.001329498521393124\n",
      "Class 262: RandomForest EER = 0.2846\n",
      "genuine_scores:  3900 0.023735897435897452 impostor_scores 76743 0.0018193190258395254\n",
      "Class 265: RandomForest EER = 0.4787\n",
      "genuine_scores:  1800 0.004616666666666651 impostor_scores 78843 0.0007577083571147607\n",
      "Class 268: RandomForest EER = 0.4442\n",
      "genuine_scores:  1800 0.005238888888888886 impostor_scores 78843 0.0006682901462399945\n",
      "Class 270: RandomForest EER = 0.4869\n",
      "genuine_scores:  1800 0.00811666666666664 impostor_scores 78843 0.0004441738645155662\n",
      "Class 281: RandomForest EER = 0.4333\n",
      "genuine_scores:  1800 0.0031666666666666536 impostor_scores 78843 0.0007624012277564164\n",
      "Class 291: RandomForest EER = 0.4462\n",
      "genuine_scores:  2200 0.002686363636363611 impostor_scores 78443 0.0017426666496693378\n",
      "Class 296: RandomForest EER = 0.4684\n",
      "genuine_scores:  2100 0.002861904761904742 impostor_scores 78543 0.0009425410284812275\n",
      "Class 299: RandomForest EER = 0.4527\n",
      "genuine_scores:  2000 0.004314999999999965 impostor_scores 78643 0.0016461732131278163\n",
      "Class 303: RandomForest EER = 0.4311\n",
      "genuine_scores:  2200 0.02165 impostor_scores 78443 0.0006218528103208692\n",
      "Class 306: RandomForest EER = 0.3833\n",
      "genuine_scores:  500 0.0013800000000000006 impostor_scores 80143 0.001235167138739561\n",
      "Class 314: RandomForest EER = 0.4850\n",
      "genuine_scores:  2000 0.00950999999999996 impostor_scores 78643 0.0021362359014788397\n",
      "Class 322: RandomForest EER = 0.3509\n",
      "genuine_scores:  2100 0.0055952380952380655 impostor_scores 78543 0.001849814751155461\n",
      "Class 325: RandomForest EER = 0.4393\n",
      "genuine_scores:  2200 0.007777272727272694 impostor_scores 78443 0.0010162793365883858\n",
      "Class 342: RandomForest EER = 0.4181\n",
      "genuine_scores:  2200 0.008895454545454557 impostor_scores 78443 0.0011015641931084214\n",
      "Class 348: RandomForest EER = 0.3889\n",
      "genuine_scores:  2100 0.008519047619047593 impostor_scores 78543 0.001725296971086013\n",
      "Class 357: RandomForest EER = 0.3994\n",
      "genuine_scores:  2100 0.005628571428571387 impostor_scores 78543 0.0010799180066970232\n",
      "Class 364: RandomForest EER = 0.4160\n",
      "genuine_scores:  1900 0.008942105263157847 impostor_scores 78743 0.001174707593055958\n",
      "Class 374: RandomForest EER = 0.3680\n",
      "genuine_scores:  800 0.00639999999999997 impostor_scores 79843 0.002016206805856511\n",
      "Class 407: RandomForest EER = 0.3674\n",
      "genuine_scores:  800 0.03538750000000004 impostor_scores 79843 0.0011640344175444998\n",
      "Class 414: RandomForest EER = 0.2452\n",
      "genuine_scores:  800 0.07881249999999998 impostor_scores 79843 0.0008976366118507683\n",
      "Class 415: RandomForest EER = 0.1706\n",
      "genuine_scores:  800 0.0012000000000000005 impostor_scores 79843 0.0003779918089250276\n",
      "Class 418: RandomForest EER = 0.4830\n",
      "genuine_scores:  800 0.010462499999999963 impostor_scores 79843 0.001866162343599387\n",
      "Class 419: RandomForest EER = 0.3968\n",
      "genuine_scores:  700 0.028557142857142826 impostor_scores 79943 0.0012381321691706077\n",
      "Class 422: RandomForest EER = 0.2219\n",
      "genuine_scores:  700 0.014585714285714256 impostor_scores 79943 0.0008288405488910747\n",
      "Class 436: RandomForest EER = 0.3680\n",
      "Final Average EER RandomForest: 39.4566\n",
      "Final EER Standard Deviation RandomForest: 9.2854\n",
      "$39.46 \\pm 9.29$\n"
     ]
    },
    {
     "data": {
      "text/plain": [
       "{'RandomForest': {'mean': 39.45661936233044, 'std': 9.285379443400636}}"
      ]
     },
     "execution_count": 8,
     "metadata": {},
     "output_type": "execute_result"
    }
   ],
   "source": [
    "# Test your pipeline with synthetic data\n",
    "\n",
    "\n",
    "\n",
    "resutls = classifiers_learn(\n",
    "    x_test_e, y_test_e, x_test_v, y_test_v, None, x_test_n\n",
    ")\n",
    "# Print results\n",
    "#print(\"EER:\", EERf(resutls))\n",
    "\n",
    "calculate_mean_std(resutls)"
   ]
  },
  {
   "cell_type": "code",
   "execution_count": null,
   "id": "87a7f397-d751-4811-9cc0-2a30b5b73662",
   "metadata": {},
   "outputs": [],
   "source": []
  },
  {
   "cell_type": "code",
   "execution_count": null,
   "id": "0e467d96-66ec-4da2-8c3d-f80db642438d",
   "metadata": {},
   "outputs": [],
   "source": []
  },
  {
   "cell_type": "code",
   "execution_count": null,
   "id": "9b1c3347-940f-407d-a0f7-19f1205ff8d6",
   "metadata": {},
   "outputs": [],
   "source": []
  },
  {
   "cell_type": "code",
   "execution_count": 9,
   "id": "5be5749c-bfbc-4445-b427-e3686a4f0791",
   "metadata": {},
   "outputs": [],
   "source": [
    "#from sklearn.ensemble import RandomForestClassifier\n",
    "from sklearn.metrics import roc_curve\n",
    "from sklearn.decomposition import PCA\n",
    "from sklearn.preprocessing import StandardScaler\n",
    "from sklearn.svm import SVC\n",
    "from sklearn.decomposition import IncrementalPCA\n",
    "from sklearn.pipeline import Pipeline\n",
    "from sklearn.utils import shuffle\n",
    "from sklearn.kernel_approximation import RBFSampler\n",
    "from sklearn.linear_model import SGDClassifier\n",
    "from sklearn.preprocessing import StandardScaler\n",
    "from sklearn.pipeline import Pipeline\n",
    "from sklearn.utils import shuffle\n",
    "\n",
    "\n",
    "def classifiers_learn(enrollment_data, ye, verification_data, yv, e_network, negative_raw):\n",
    "    \"\"\"\n",
    "    Learn classifiers per unique subject and evaluate using EER.\n",
    "    \"\"\"\n",
    "    x_enrollment, y_enrollment = enrollment_data, ye\n",
    "    x_verification, y_verification = verification_data, yv\n",
    "    \n",
    "    # Compute embeddings\n",
    "    enrollment_embeddings = compute_embedding_batch_two(x_enrollment, e_network)\n",
    "    verification_embeddings = compute_embedding_batch_two(x_verification, e_network)\n",
    "    negative_embeddings = compute_embedding_batch_two(negative_raw, e_network)\n",
    "    \n",
    "    unique_classes = np.unique(y_enrollment)\n",
    "    results = {}\n",
    "\n",
    "    print(\"Unique classes: \", unique_classes)\n",
    "\n",
    "    for cls in unique_classes:\n",
    "        # Prepare training data\n",
    "        positive_indices = np.where(y_enrollment == cls)[0]\n",
    "        negative_indices = np.arange(len(negative_embeddings))\n",
    "        \n",
    "        train_embeddings = np.concatenate([enrollment_embeddings[positive_indices], negative_embeddings])\n",
    "        train_labels = np.concatenate([np.ones(len(positive_indices)), np.zeros(len(negative_indices))])\n",
    "\n",
    "        # Prepare testing data\n",
    "        test_embeddings = verification_embeddings\n",
    "        test_labels =(y_verification == cls).astype(int)\n",
    "\n",
    "\n",
    "        # Initialize Incremental PCA\n",
    "        #pca = IncrementalPCA(n_components=50)  # Retain 80% of variance or specify a fixed number of components\n",
    "        \n",
    "\n",
    "        #batch_size = 5000  # Define batch size\n",
    "        #for i in range(0, train_embeddings.shape[0], batch_size):\n",
    "            #batch = train_embeddings[i:i + batch_size]\n",
    "            #pca.partial_fit(batch)  \n",
    "        #train_embeddings_reduced = pca.transform(train_embeddings)\n",
    "        #print(\"Reduced Training Shape:\", train_embeddings_reduced.shape)\n",
    "        #test_embeddings_reduced = pca.transform(test_embeddings)\n",
    "        #print(\"Reduced Test Shape:\", test_embeddings_reduced.shape)\n",
    "\n",
    "        # Train Random Forest model\n",
    "        #rf_model = RandomForestClassifier(random_state=42, class_weight='balanced', n_jobs=-1)\n",
    "        #rf_model.fit(train_embeddings, train_labels)\n",
    "        #rf_probabilities = rf_model.predict_proba(test_embeddings)[:, 1]  # Use probabilities for EER calculation\n",
    "\n",
    "        \n",
    "        # Replace RandomForest with Linear SVM + Kernel Approximation\n",
    "        pipeline = Pipeline([\n",
    "            ('scaler', StandardScaler()),\n",
    "            ('kernel_approximation', RBFSampler(gamma=1, random_state=42, n_components=500)),  # Approximate RBF kernel\n",
    "            ('classifier', SGDClassifier(loss='hinge', max_iter=1000, tol=1e-3, class_weight='balanced', random_state=42, n_jobs=20))\n",
    "        ])\n",
    "        \n",
    "        # Shuffle and split the data\n",
    "        X, y = shuffle(train_embeddings, train_labels, random_state=42)\n",
    "        \n",
    "        # Train the pipeline\n",
    "        pipeline.fit(X, y)\n",
    "        \n",
    "        # Predict probabilities for the test set\n",
    "        # Note: SGDClassifier doesn't provide probabilities directly, so we use decision_function\n",
    "        decision_scores = pipeline.decision_function(test_embeddings)\n",
    "        probabilities = 1 / (1 + np.exp(-decision_scores))  # Sigmoid function to map decision scores to probabilities\n",
    "        \n",
    "        # Calculate EER\n",
    "        svm_eer = calculate_eer(test_labels, probabilities)\n",
    "        \n",
    "        print(f\"Class {cls}: Linear SVM with Kernel Approximation EER = {svm_eer:.4f}\")\n",
    "        \n",
    "        results[cls] = {\n",
    "            'RandomForest': {'EER': svm_eer}\n",
    "        }\n",
    "        \n",
    "    return results\n",
    "\n"
   ]
  },
  {
   "cell_type": "code",
   "execution_count": 10,
   "id": "da6172a3-8e16-40da-853d-c323efd3ae25",
   "metadata": {},
   "outputs": [
    {
     "name": "stdout",
     "output_type": "stream",
     "text": [
      "(5000, 46500)\n",
      "(80643, 46500)\n",
      "(84408, 46500)\n",
      "Unique classes:  [ 70  86  96 125 129 167 174 175 183 194 197 199 201 203 206 207 214 219\n",
      " 230 236 245 250 257 260 261 262 265 268 270 281 291 296 299 303 306 314\n",
      " 322 325 342 348 357 364 374 407 414 415 418 419 422 436]\n",
      "genuine_scores:  1800 0.17438766836608888 impostor_scores 78843 0.17311816178706052\n",
      "Class 70: Linear SVM with Kernel Approximation EER = 0.4963\n",
      "genuine_scores:  1800 0.2810209985695079 impostor_scores 78843 0.2785233684722682\n",
      "Class 86: Linear SVM with Kernel Approximation EER = 0.5022\n",
      "genuine_scores:  1700 0.22085661710100507 impostor_scores 78943 0.21067184496068453\n",
      "Class 96: Linear SVM with Kernel Approximation EER = 0.4953\n",
      "genuine_scores:  1800 0.3020934116857288 impostor_scores 78843 0.29689912740728464\n",
      "Class 125: Linear SVM with Kernel Approximation EER = 0.4986\n",
      "genuine_scores:  400 0.1376187453122641 impostor_scores 80243 0.12323929084317273\n",
      "Class 129: Linear SVM with Kernel Approximation EER = 0.4834\n",
      "genuine_scores:  100 0.256425323611405 impostor_scores 80543 0.2488035716897663\n",
      "Class 167: Linear SVM with Kernel Approximation EER = 0.5020\n"
     ]
    },
    {
     "name": "stderr",
     "output_type": "stream",
     "text": [
      "/home/fallahi/anaconda3/envs/oml/lib/python3.9/site-packages/pyeer/eer_stats.py:219: UserWarning: It is possible that you had set the wrong score type. Please consider reviewing if you are using dissimilarity or similarity scores\n",
      "  warn(\"It is possible that you had set the wrong score\"\n"
     ]
    },
    {
     "name": "stdout",
     "output_type": "stream",
     "text": [
      "genuine_scores:  1800 0.11533527789227521 impostor_scores 78843 0.117691557961794\n",
      "Class 174: Linear SVM with Kernel Approximation EER = 0.5022\n"
     ]
    },
    {
     "name": "stderr",
     "output_type": "stream",
     "text": [
      "/home/fallahi/anaconda3/envs/oml/lib/python3.9/site-packages/pyeer/eer_stats.py:219: UserWarning: It is possible that you had set the wrong score type. Please consider reviewing if you are using dissimilarity or similarity scores\n",
      "  warn(\"It is possible that you had set the wrong score\"\n"
     ]
    },
    {
     "name": "stdout",
     "output_type": "stream",
     "text": [
      "genuine_scores:  500 0.2015529097867549 impostor_scores 80143 0.2045855678585946\n",
      "Class 175: Linear SVM with Kernel Approximation EER = 0.5009\n"
     ]
    },
    {
     "name": "stderr",
     "output_type": "stream",
     "text": [
      "/home/fallahi/anaconda3/envs/oml/lib/python3.9/site-packages/pyeer/eer_stats.py:219: UserWarning: It is possible that you had set the wrong score type. Please consider reviewing if you are using dissimilarity or similarity scores\n",
      "  warn(\"It is possible that you had set the wrong score\"\n"
     ]
    },
    {
     "name": "stdout",
     "output_type": "stream",
     "text": [
      "genuine_scores:  500 0.1993748052658878 impostor_scores 80143 0.21645225136279692\n",
      "Class 183: Linear SVM with Kernel Approximation EER = 0.5004\n"
     ]
    },
    {
     "name": "stderr",
     "output_type": "stream",
     "text": [
      "/home/fallahi/anaconda3/envs/oml/lib/python3.9/site-packages/pyeer/eer_stats.py:219: UserWarning: It is possible that you had set the wrong score type. Please consider reviewing if you are using dissimilarity or similarity scores\n",
      "  warn(\"It is possible that you had set the wrong score\"\n"
     ]
    },
    {
     "name": "stdout",
     "output_type": "stream",
     "text": [
      "genuine_scores:  1800 0.20761125564201094 impostor_scores 78843 0.19957153435473013\n",
      "Class 194: Linear SVM with Kernel Approximation EER = 0.4889\n",
      "genuine_scores:  1800 0.1787617647101582 impostor_scores 78843 0.171793614794224\n",
      "Class 197: Linear SVM with Kernel Approximation EER = 0.4886\n",
      "genuine_scores:  1800 0.15531247957001407 impostor_scores 78843 0.15782675397146093\n",
      "Class 199: Linear SVM with Kernel Approximation EER = 0.5096\n"
     ]
    },
    {
     "name": "stderr",
     "output_type": "stream",
     "text": [
      "/home/fallahi/anaconda3/envs/oml/lib/python3.9/site-packages/pyeer/eer_stats.py:219: UserWarning: It is possible that you had set the wrong score type. Please consider reviewing if you are using dissimilarity or similarity scores\n",
      "  warn(\"It is possible that you had set the wrong score\"\n"
     ]
    },
    {
     "name": "stdout",
     "output_type": "stream",
     "text": [
      "genuine_scores:  1800 0.12848109819284076 impostor_scores 78843 0.13282902478329847\n",
      "Class 201: Linear SVM with Kernel Approximation EER = 0.5029\n",
      "genuine_scores:  500 0.248625113093221 impostor_scores 80143 0.24315456200465813\n",
      "Class 203: Linear SVM with Kernel Approximation EER = 0.5120\n"
     ]
    },
    {
     "name": "stderr",
     "output_type": "stream",
     "text": [
      "/home/fallahi/anaconda3/envs/oml/lib/python3.9/site-packages/pyeer/eer_stats.py:219: UserWarning: It is possible that you had set the wrong score type. Please consider reviewing if you are using dissimilarity or similarity scores\n",
      "  warn(\"It is possible that you had set the wrong score\"\n"
     ]
    },
    {
     "name": "stdout",
     "output_type": "stream",
     "text": [
      "genuine_scores:  500 0.18991690083414992 impostor_scores 80143 0.20127705343257507\n",
      "Class 206: Linear SVM with Kernel Approximation EER = 0.5160\n"
     ]
    },
    {
     "name": "stderr",
     "output_type": "stream",
     "text": [
      "/home/fallahi/anaconda3/envs/oml/lib/python3.9/site-packages/pyeer/eer_stats.py:219: UserWarning: It is possible that you had set the wrong score type. Please consider reviewing if you are using dissimilarity or similarity scores\n",
      "  warn(\"It is possible that you had set the wrong score\"\n"
     ]
    },
    {
     "name": "stdout",
     "output_type": "stream",
     "text": [
      "genuine_scores:  4000 0.18287448870406112 impostor_scores 76643 0.18594842226938785\n",
      "Class 207: Linear SVM with Kernel Approximation EER = 0.5012\n"
     ]
    },
    {
     "name": "stderr",
     "output_type": "stream",
     "text": [
      "/home/fallahi/anaconda3/envs/oml/lib/python3.9/site-packages/pyeer/eer_stats.py:219: UserWarning: It is possible that you had set the wrong score type. Please consider reviewing if you are using dissimilarity or similarity scores\n",
      "  warn(\"It is possible that you had set the wrong score\"\n"
     ]
    },
    {
     "name": "stdout",
     "output_type": "stream",
     "text": [
      "genuine_scores:  1679 0.09481506768940727 impostor_scores 78964 0.09428617860573132\n",
      "Class 214: Linear SVM with Kernel Approximation EER = 0.4896\n",
      "genuine_scores:  464 0.1574756822575128 impostor_scores 80179 0.1710978214108083\n",
      "Class 219: Linear SVM with Kernel Approximation EER = 0.5065\n"
     ]
    },
    {
     "name": "stderr",
     "output_type": "stream",
     "text": [
      "/home/fallahi/anaconda3/envs/oml/lib/python3.9/site-packages/pyeer/eer_stats.py:219: UserWarning: It is possible that you had set the wrong score type. Please consider reviewing if you are using dissimilarity or similarity scores\n",
      "  warn(\"It is possible that you had set the wrong score\"\n"
     ]
    },
    {
     "name": "stdout",
     "output_type": "stream",
     "text": [
      "genuine_scores:  500 0.15525781590004822 impostor_scores 80143 0.16283947127993967\n",
      "Class 230: Linear SVM with Kernel Approximation EER = 0.4942\n"
     ]
    },
    {
     "name": "stderr",
     "output_type": "stream",
     "text": [
      "/home/fallahi/anaconda3/envs/oml/lib/python3.9/site-packages/pyeer/eer_stats.py:219: UserWarning: It is possible that you had set the wrong score type. Please consider reviewing if you are using dissimilarity or similarity scores\n",
      "  warn(\"It is possible that you had set the wrong score\"\n"
     ]
    },
    {
     "name": "stdout",
     "output_type": "stream",
     "text": [
      "genuine_scores:  4100 0.17299298858885043 impostor_scores 76543 0.17378674959355842\n",
      "Class 236: Linear SVM with Kernel Approximation EER = 0.5022\n"
     ]
    },
    {
     "name": "stderr",
     "output_type": "stream",
     "text": [
      "/home/fallahi/anaconda3/envs/oml/lib/python3.9/site-packages/pyeer/eer_stats.py:219: UserWarning: It is possible that you had set the wrong score type. Please consider reviewing if you are using dissimilarity or similarity scores\n",
      "  warn(\"It is possible that you had set the wrong score\"\n"
     ]
    },
    {
     "name": "stdout",
     "output_type": "stream",
     "text": [
      "genuine_scores:  500 0.07710257309180563 impostor_scores 80143 0.09152002513442892\n",
      "Class 245: Linear SVM with Kernel Approximation EER = 0.5200\n"
     ]
    },
    {
     "name": "stderr",
     "output_type": "stream",
     "text": [
      "/home/fallahi/anaconda3/envs/oml/lib/python3.9/site-packages/pyeer/eer_stats.py:219: UserWarning: It is possible that you had set the wrong score type. Please consider reviewing if you are using dissimilarity or similarity scores\n",
      "  warn(\"It is possible that you had set the wrong score\"\n"
     ]
    },
    {
     "name": "stdout",
     "output_type": "stream",
     "text": [
      "genuine_scores:  4000 0.2683986837845682 impostor_scores 76643 0.2678537696984747\n",
      "Class 250: Linear SVM with Kernel Approximation EER = 0.4957\n"
     ]
    },
    {
     "name": "stderr",
     "output_type": "stream",
     "text": [
      "/home/fallahi/anaconda3/envs/oml/lib/python3.9/site-packages/pyeer/eer_stats.py:219: UserWarning: It is possible that you had set the wrong score type. Please consider reviewing if you are using dissimilarity or similarity scores\n",
      "  warn(\"It is possible that you had set the wrong score\"\n"
     ]
    },
    {
     "name": "stdout",
     "output_type": "stream",
     "text": [
      "genuine_scores:  500 0.12165739251576954 impostor_scores 80143 0.12188591939283165\n",
      "Class 257: Linear SVM with Kernel Approximation EER = 0.4988\n"
     ]
    },
    {
     "name": "stderr",
     "output_type": "stream",
     "text": [
      "/home/fallahi/anaconda3/envs/oml/lib/python3.9/site-packages/pyeer/eer_stats.py:219: UserWarning: It is possible that you had set the wrong score type. Please consider reviewing if you are using dissimilarity or similarity scores\n",
      "  warn(\"It is possible that you had set the wrong score\"\n"
     ]
    },
    {
     "name": "stdout",
     "output_type": "stream",
     "text": [
      "genuine_scores:  4800 0.10797039020856128 impostor_scores 75843 0.10762285690888938\n",
      "Class 260: Linear SVM with Kernel Approximation EER = 0.5010\n"
     ]
    },
    {
     "name": "stderr",
     "output_type": "stream",
     "text": [
      "/home/fallahi/anaconda3/envs/oml/lib/python3.9/site-packages/pyeer/eer_stats.py:219: UserWarning: It is possible that you had set the wrong score type. Please consider reviewing if you are using dissimilarity or similarity scores\n",
      "  warn(\"It is possible that you had set the wrong score\"\n"
     ]
    },
    {
     "name": "stdout",
     "output_type": "stream",
     "text": [
      "genuine_scores:  900 0.27830524491981223 impostor_scores 79743 0.2651589480861121\n",
      "Class 261: Linear SVM with Kernel Approximation EER = 0.4849\n",
      "genuine_scores:  500 0.17234322699972032 impostor_scores 80143 0.17972251964984468\n",
      "Class 262: Linear SVM with Kernel Approximation EER = 0.5008\n"
     ]
    },
    {
     "name": "stderr",
     "output_type": "stream",
     "text": [
      "/home/fallahi/anaconda3/envs/oml/lib/python3.9/site-packages/pyeer/eer_stats.py:219: UserWarning: It is possible that you had set the wrong score type. Please consider reviewing if you are using dissimilarity or similarity scores\n",
      "  warn(\"It is possible that you had set the wrong score\"\n"
     ]
    },
    {
     "name": "stdout",
     "output_type": "stream",
     "text": [
      "genuine_scores:  3900 0.15766896000280178 impostor_scores 76743 0.1536729319005814\n",
      "Class 265: Linear SVM with Kernel Approximation EER = 0.4923\n",
      "genuine_scores:  1800 0.2573061116351004 impostor_scores 78843 0.2443953152441111\n",
      "Class 268: Linear SVM with Kernel Approximation EER = 0.4911\n",
      "genuine_scores:  1800 0.19991130040064228 impostor_scores 78843 0.20158018247654394\n",
      "Class 270: Linear SVM with Kernel Approximation EER = 0.5080\n"
     ]
    },
    {
     "name": "stderr",
     "output_type": "stream",
     "text": [
      "/home/fallahi/anaconda3/envs/oml/lib/python3.9/site-packages/pyeer/eer_stats.py:219: UserWarning: It is possible that you had set the wrong score type. Please consider reviewing if you are using dissimilarity or similarity scores\n",
      "  warn(\"It is possible that you had set the wrong score\"\n"
     ]
    },
    {
     "name": "stdout",
     "output_type": "stream",
     "text": [
      "genuine_scores:  1800 0.09090495922118388 impostor_scores 78843 0.09719705387797194\n",
      "Class 281: Linear SVM with Kernel Approximation EER = 0.5011\n"
     ]
    },
    {
     "name": "stderr",
     "output_type": "stream",
     "text": [
      "/home/fallahi/anaconda3/envs/oml/lib/python3.9/site-packages/pyeer/eer_stats.py:219: UserWarning: It is possible that you had set the wrong score type. Please consider reviewing if you are using dissimilarity or similarity scores\n",
      "  warn(\"It is possible that you had set the wrong score\"\n"
     ]
    },
    {
     "name": "stdout",
     "output_type": "stream",
     "text": [
      "genuine_scores:  1800 0.19265348376120223 impostor_scores 78843 0.18686325502857076\n",
      "Class 291: Linear SVM with Kernel Approximation EER = 0.5028\n",
      "genuine_scores:  2200 0.2309634676316128 impostor_scores 78443 0.24024193386674708\n",
      "Class 296: Linear SVM with Kernel Approximation EER = 0.5064\n"
     ]
    },
    {
     "name": "stderr",
     "output_type": "stream",
     "text": [
      "/home/fallahi/anaconda3/envs/oml/lib/python3.9/site-packages/pyeer/eer_stats.py:219: UserWarning: It is possible that you had set the wrong score type. Please consider reviewing if you are using dissimilarity or similarity scores\n",
      "  warn(\"It is possible that you had set the wrong score\"\n"
     ]
    },
    {
     "name": "stdout",
     "output_type": "stream",
     "text": [
      "genuine_scores:  2100 0.20254084625070562 impostor_scores 78543 0.19616462204767826\n",
      "Class 299: Linear SVM with Kernel Approximation EER = 0.5001\n",
      "genuine_scores:  2000 0.2044488977492179 impostor_scores 78643 0.19893448194511093\n",
      "Class 303: Linear SVM with Kernel Approximation EER = 0.4945\n",
      "genuine_scores:  2200 0.11728203700615125 impostor_scores 78443 0.11380591961231173\n",
      "Class 306: Linear SVM with Kernel Approximation EER = 0.5032\n",
      "genuine_scores:  500 0.27630783813118437 impostor_scores 80143 0.2709913127758301\n",
      "Class 314: Linear SVM with Kernel Approximation EER = 0.5020\n",
      "genuine_scores:  2000 0.21628961077315245 impostor_scores 78643 0.22472077582552596\n",
      "Class 322: Linear SVM with Kernel Approximation EER = 0.5060\n"
     ]
    },
    {
     "name": "stderr",
     "output_type": "stream",
     "text": [
      "/home/fallahi/anaconda3/envs/oml/lib/python3.9/site-packages/pyeer/eer_stats.py:219: UserWarning: It is possible that you had set the wrong score type. Please consider reviewing if you are using dissimilarity or similarity scores\n",
      "  warn(\"It is possible that you had set the wrong score\"\n"
     ]
    },
    {
     "name": "stdout",
     "output_type": "stream",
     "text": [
      "genuine_scores:  2100 0.12397215599200806 impostor_scores 78543 0.12792071319284837\n",
      "Class 325: Linear SVM with Kernel Approximation EER = 0.5064\n"
     ]
    },
    {
     "name": "stderr",
     "output_type": "stream",
     "text": [
      "/home/fallahi/anaconda3/envs/oml/lib/python3.9/site-packages/pyeer/eer_stats.py:219: UserWarning: It is possible that you had set the wrong score type. Please consider reviewing if you are using dissimilarity or similarity scores\n",
      "  warn(\"It is possible that you had set the wrong score\"\n"
     ]
    },
    {
     "name": "stdout",
     "output_type": "stream",
     "text": [
      "genuine_scores:  2200 0.2486743378603988 impostor_scores 78443 0.25218765452258823\n",
      "Class 342: Linear SVM with Kernel Approximation EER = 0.4970\n",
      "genuine_scores:  2200 0.13419632455350364 impostor_scores 78443 0.13722346389101367\n",
      "Class 348: Linear SVM with Kernel Approximation EER = 0.4984\n"
     ]
    },
    {
     "name": "stderr",
     "output_type": "stream",
     "text": [
      "/home/fallahi/anaconda3/envs/oml/lib/python3.9/site-packages/pyeer/eer_stats.py:219: UserWarning: It is possible that you had set the wrong score type. Please consider reviewing if you are using dissimilarity or similarity scores\n",
      "  warn(\"It is possible that you had set the wrong score\"\n"
     ]
    },
    {
     "name": "stdout",
     "output_type": "stream",
     "text": [
      "genuine_scores:  2100 0.2377423874832967 impostor_scores 78543 0.24237355471741517\n",
      "Class 357: Linear SVM with Kernel Approximation EER = 0.5048\n"
     ]
    },
    {
     "name": "stderr",
     "output_type": "stream",
     "text": [
      "/home/fallahi/anaconda3/envs/oml/lib/python3.9/site-packages/pyeer/eer_stats.py:219: UserWarning: It is possible that you had set the wrong score type. Please consider reviewing if you are using dissimilarity or similarity scores\n",
      "  warn(\"It is possible that you had set the wrong score\"\n"
     ]
    },
    {
     "name": "stdout",
     "output_type": "stream",
     "text": [
      "genuine_scores:  2100 0.1775996885181092 impostor_scores 78543 0.1751284838200082\n",
      "Class 364: Linear SVM with Kernel Approximation EER = 0.4995\n",
      "genuine_scores:  1900 0.12616702850118314 impostor_scores 78743 0.12869194695530548\n",
      "Class 374: Linear SVM with Kernel Approximation EER = 0.4953\n",
      "genuine_scores:  800 0.14051979571711318 impostor_scores 79843 0.15465664715523353\n",
      "Class 407: Linear SVM with Kernel Approximation EER = 0.5167\n"
     ]
    },
    {
     "name": "stderr",
     "output_type": "stream",
     "text": [
      "/home/fallahi/anaconda3/envs/oml/lib/python3.9/site-packages/pyeer/eer_stats.py:219: UserWarning: It is possible that you had set the wrong score type. Please consider reviewing if you are using dissimilarity or similarity scores\n",
      "  warn(\"It is possible that you had set the wrong score\"\n"
     ]
    },
    {
     "name": "stdout",
     "output_type": "stream",
     "text": [
      "genuine_scores:  800 0.14182383132668708 impostor_scores 79843 0.13553677878920237\n",
      "Class 414: Linear SVM with Kernel Approximation EER = 0.4925\n",
      "genuine_scores:  800 0.14947498150342697 impostor_scores 79843 0.15144800798220762\n",
      "Class 415: Linear SVM with Kernel Approximation EER = 0.5003\n"
     ]
    },
    {
     "name": "stderr",
     "output_type": "stream",
     "text": [
      "/home/fallahi/anaconda3/envs/oml/lib/python3.9/site-packages/pyeer/eer_stats.py:219: UserWarning: It is possible that you had set the wrong score type. Please consider reviewing if you are using dissimilarity or similarity scores\n",
      "  warn(\"It is possible that you had set the wrong score\"\n"
     ]
    },
    {
     "name": "stdout",
     "output_type": "stream",
     "text": [
      "genuine_scores:  800 0.28565695607288366 impostor_scores 79843 0.28190510403135355\n",
      "Class 418: Linear SVM with Kernel Approximation EER = 0.5015\n"
     ]
    },
    {
     "name": "stderr",
     "output_type": "stream",
     "text": [
      "/home/fallahi/anaconda3/envs/oml/lib/python3.9/site-packages/pyeer/eer_stats.py:219: UserWarning: It is possible that you had set the wrong score type. Please consider reviewing if you are using dissimilarity or similarity scores\n",
      "  warn(\"It is possible that you had set the wrong score\"\n"
     ]
    },
    {
     "name": "stdout",
     "output_type": "stream",
     "text": [
      "genuine_scores:  800 0.1012322139000305 impostor_scores 79843 0.10765891886323935\n",
      "Class 419: Linear SVM with Kernel Approximation EER = 0.5063\n"
     ]
    },
    {
     "name": "stderr",
     "output_type": "stream",
     "text": [
      "/home/fallahi/anaconda3/envs/oml/lib/python3.9/site-packages/pyeer/eer_stats.py:219: UserWarning: It is possible that you had set the wrong score type. Please consider reviewing if you are using dissimilarity or similarity scores\n",
      "  warn(\"It is possible that you had set the wrong score\"\n"
     ]
    },
    {
     "name": "stdout",
     "output_type": "stream",
     "text": [
      "genuine_scores:  700 0.20835722252289413 impostor_scores 79943 0.20515124144645655\n",
      "Class 422: Linear SVM with Kernel Approximation EER = 0.4957\n",
      "genuine_scores:  700 0.168187150574229 impostor_scores 79943 0.17056665944387786\n",
      "Class 436: Linear SVM with Kernel Approximation EER = 0.5043\n",
      "Final Average EER RandomForest: 50.0411\n",
      "Final EER Standard Deviation RandomForest: 0.7420\n",
      "$50.04 \\pm 0.74$\n"
     ]
    },
    {
     "data": {
      "text/plain": [
       "{'RandomForest': {'mean': 50.041085021931295, 'std': 0.741986696812424}}"
      ]
     },
     "execution_count": 10,
     "metadata": {},
     "output_type": "execute_result"
    }
   ],
   "source": [
    "# Test your pipeline with synthetic data\n",
    "\n",
    "\n",
    "\n",
    "resutls = classifiers_learn(\n",
    "    x_test_e, y_test_e, x_test_v, y_test_v, None, x_test_n\n",
    ")\n",
    "# Print results\n",
    "#print(\"EER:\", EERf(resutls))\n",
    "\n",
    "calculate_mean_std(resutls)"
   ]
  },
  {
   "cell_type": "code",
   "execution_count": null,
   "id": "06495379-d922-4cf3-81db-b1805ef9e493",
   "metadata": {},
   "outputs": [],
   "source": []
  }
 ],
 "metadata": {
  "kernelspec": {
   "display_name": "oml",
   "language": "python",
   "name": "oml"
  },
  "language_info": {
   "codemirror_mode": {
    "name": "ipython",
    "version": 3
   },
   "file_extension": ".py",
   "mimetype": "text/x-python",
   "name": "python",
   "nbconvert_exporter": "python",
   "pygments_lexer": "ipython3",
   "version": "3.9.19"
  }
 },
 "nbformat": 4,
 "nbformat_minor": 5
}
